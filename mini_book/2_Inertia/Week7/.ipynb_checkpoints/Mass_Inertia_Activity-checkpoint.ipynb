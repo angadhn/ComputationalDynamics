{
 "cells": [
  {
   "cell_type": "markdown",
   "metadata": {
    "toc": true
   },
   "source": [
    "<h1>Table of Contents<span class=\"tocSkip\"></span></h1>\n",
    "<div class=\"toc\"><ul class=\"toc-item\"><li><span><a href=\"#Overview-of-Practice-Activity\" data-toc-modified-id=\"Overview-of-Practice-Activity-1\"><span class=\"toc-item-num\">1&nbsp;&nbsp;</span>Overview of Practice Activity</a></span></li><li><span><a href=\"#Solution\" data-toc-modified-id=\"Solution-2\"><span class=\"toc-item-num\">2&nbsp;&nbsp;</span>Solution</a></span></li></ul></div>"
   ]
  },
  {
   "cell_type": "markdown",
   "metadata": {},
   "source": [
    "# Overview of Practice Activity\n",
    "\n",
    "<img src=\"Figures/Problem2.png\" height=300 width=300>\n",
    "\n",
    "The figure above shows a composite system made up of three slender rods; the total mass of this system is $M$. For this system, you are to derive the inertia matrix of the system about the point O; that is, determine all the 9 elements of $[{\\bf I}]^{S/O}$. Recall that:\n",
    "\n",
    "$[{\\bf I}]^{S/O} = \\begin{bmatrix}\n",
    "I^{S/O}_{xx} & I^{S/O}_{xy} & I^{S/O}_{xz} \\\\\n",
    "I^{S/O}_{yx} & I^{S/O}_{yy} & I^{S/O}_{yz} \\\\\n",
    "I^{S/O}_{zx} & I^{S/O}_{zy} & I^{S/O}_{zz}\n",
    "\\end{bmatrix} $\n",
    "\n",
    "where the diagonal elements are moment of inertia scalars and off-diagonal elements are product of inertia scalars.\n",
    "\n",
    "So, your task reduces to calculating each of these terms and  assembling it in a matrix using sympy's `Matrix` feature.\n",
    "\n",
    "\n",
    "__<span style=\"background-color:cyan\">IMPORTANT:</span>__ You are to store your inertia matrix solution in the variable name `I_matrix_of_S_about_O`.\n",
    "\n",
    "__Hints:__\n",
    "1. $M$ will be useful to determine the mass of individual sections of the composite system.\n",
    "\n",
    "2. To support your calculations, you are provided  the some information regarding the inertia scalars of a slender rod about its mass center ($G$ in the figure):\n",
    "<img src=\"Figures/slender_rod_moi.png\">\n",
    "The figure above essentially tells you that the moment of inertia scalar about G in a direction perpendicular to rigid rod's length is $\\frac{1}{12}$(mass of the rod)$\\cdot$(length of the rod)$^2$.\n",
    "\n",
    "Additionally, you are also told that, for this slender rigid rod in the figure: \n",
    "- the moment of inertia about G of along its length is zero.\n",
    "- the products of inertia about G in all directions are all zero."
   ]
  },
  {
   "cell_type": "markdown",
   "metadata": {},
   "source": [
    "# Solution"
   ]
  },
  {
   "cell_type": "code",
   "execution_count": null,
   "metadata": {},
   "outputs": [],
   "source": [
    "from sympy import symbols, Matrix"
   ]
  }
 ],
 "metadata": {
  "kernelspec": {
   "display_name": "Python 3",
   "language": "python",
   "name": "python3"
  },
  "language_info": {
   "codemirror_mode": {
    "name": "ipython",
    "version": 3
   },
   "file_extension": ".py",
   "mimetype": "text/x-python",
   "name": "python",
   "nbconvert_exporter": "python",
   "pygments_lexer": "ipython3",
   "version": "3.7.6"
  },
  "toc": {
   "base_numbering": 1,
   "nav_menu": {},
   "number_sections": true,
   "sideBar": true,
   "skip_h1_title": false,
   "title_cell": "Table of Contents",
   "title_sidebar": "Contents",
   "toc_cell": true,
   "toc_position": {},
   "toc_section_display": true,
   "toc_window_display": false
  }
 },
 "nbformat": 4,
 "nbformat_minor": 4
}
