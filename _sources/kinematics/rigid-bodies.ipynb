{
 "cells": [
  {
   "cell_type": "markdown",
   "id": "25556c45",
   "metadata": {},
   "source": [
    "## Rigid Body Kinematics"
   ]
  },
  {
   "cell_type": "markdown",
   "id": "fa809635",
   "metadata": {},
   "source": [
    "Kinematics or Rigid body kinematics is the study of motion while ignoring the cause of motion.\n",
    "\n",
    "In kinematics, we are interested in \"position\", \"velocity\", and “acceleration\" and the relationship between them.\n",
    "\n",
    "In other words, using the figure below, we are interested in describing the motion of $B$ in $A$.\n",
    "\n",
    "```{figure} ./images/13.png\n",
    "---\n",
    "name: 13\n",
    "---\n",
    "```"
   ]
  }
 ],
 "metadata": {
  "kernelspec": {
   "display_name": "Python 3 (ipykernel)",
   "language": "python",
   "name": "python3"
  },
  "language_info": {
   "codemirror_mode": {
    "name": "ipython",
    "version": 3
   },
   "file_extension": ".py",
   "mimetype": "text/x-python",
   "name": "python",
   "nbconvert_exporter": "python",
   "pygments_lexer": "ipython3",
   "version": "3.9.7"
  }
 },
 "nbformat": 4,
 "nbformat_minor": 5
}
