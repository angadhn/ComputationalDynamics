{
 "cells": [
  {
   "cell_type": "markdown",
   "id": "93b58e75",
   "metadata": {},
   "source": [
    "## Vectors and Reference Frames"
   ]
  },
  {
   "cell_type": "markdown",
   "id": "e8846ce0",
   "metadata": {},
   "source": [
    "```{figure} ./images/10.png\n",
    "---\n",
    "name: 10\n",
    "---\n",
    "```\n",
    "\n",
    "* The figure above shows a reference frame $A$ and vector $\\vec{v}$.\n",
    "* $\\vec{v}$ is said to be fixed in the frame $A$ if and only if none of the characteristics of $\\vec{v}$ are seen to change when it is observed from $A$.\n",
    "\n",
    "```{figure} ./images/11.png\n",
    "---\n",
    "name: 11\n",
    "---\n",
    "```\n",
    "\n",
    "Notice that I have introduced the unit vectors $\\hat{b}_x$ and $\\hat{b}_y$ for the reference frame $B$ but $\\hat{b}_z$ is not shown though it is orthogonal to both $\\hat{b}_x$ and $\\hat{b}_y$.\n",
    "\n",
    "For sake of developing subsequent discussions, we will now also introduce a dextral set of unit vectors for frame\n",
    "\n",
    "$$\n",
    "A: \\: \\hat{a}_x,\\;\\hat{a}_y\\:\\&\\:\\hat{a}_z\n",
    "$$\n",
    "\n",
    "```{figure} ./images/12.png\n",
    "---\n",
    "name: 12\n",
    "---\n",
    "```\n"
   ]
  }
 ],
 "metadata": {
  "kernelspec": {
   "display_name": "Python 3 (ipykernel)",
   "language": "python",
   "name": "python3"
  },
  "language_info": {
   "codemirror_mode": {
    "name": "ipython",
    "version": 3
   },
   "file_extension": ".py",
   "mimetype": "text/x-python",
   "name": "python",
   "nbconvert_exporter": "python",
   "pygments_lexer": "ipython3",
   "version": "3.9.7"
  }
 },
 "nbformat": 4,
 "nbformat_minor": 5
}
