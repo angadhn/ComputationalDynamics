{
 "cells": [
  {
   "cell_type": "markdown",
   "id": "93b58e75",
   "metadata": {},
   "source": [
    "# Vectors and Reference Frames for Dynamics: Physical Examples"
   ]
  },
  {
   "cell_type": "markdown",
   "id": "e8846ce0",
   "metadata": {},
   "source": [
    ":::{admonition}Concept\n",
    "```{figure} ./images/10.png\n",
    "---\n",
    "name: 10\n",
    "---\n",
    "```\n",
    "\n",
    "* The figure above shows a reference frame $A$ (in pink) and vector ${\\bf v}$ (in black).\n",
    "* Here, ${\\bf v}$ is said to be fixed in the frame $A$ __if and only if__ none of the characteristics of $\\bf v$ (i.e., magnitude and direction) are seen to change when it is observed from $A$.\n",
    ":::\n",
    "\n",
    "Below, we make use of some hand illustrations to exemplify the above concept.\n",
    "\n",
    "```{figure} ./images/11.png\n",
    "---\n",
    "name: 11\n",
    "---\n",
    "```\n",
    "The above handwritten equation can be written in typeface as: \n",
    "```{math}\n",
    ":label: eqn1\n",
    "{\\bf v}& = v \\hat{\\bf b}_x\\\\\n",
    "{\\bf e}& = -e \\hat{\\bf b}_y\n",
    "```\n",
    "where $v$ and $e$ are the magnitudes of ${\\bf v}$ and ${\\bf e}$.\n",
    "\n",
    "Notice that we have introduced the unit vectors $\\hat{\\bf b}_x$ and $\\hat{\\bf b}_y$ for the reference frame $B$ but $\\hat{\\bf b}_z$ is not shown; however, it still does exist and is orthogonal to both $\\hat{\\bf b}_x$ and $\\hat{\\bf b}_y$. For the sake of the next discussions on how reference frames relate to each other, we now also introduce a right-handed set of unit vectors for frame $ A: \\: \\hat{\\bf a}_x,\\;\\hat{\\bf a}_y\\:\\&\\:\\hat{\\bf a}_z$. We will work with this example in our next Jupyter Notebook, which is our first Practice Activity specifically pertinent to our discussion on dynamics.\n",
    "\n",
    "```{figure} ./images/12.png\n",
    "---\n",
    "name: 12\n",
    "---\n",
    "```\n"
   ]
  }
 ],
 "metadata": {
  "kernelspec": {
   "display_name": "Python 3 (ipykernel)",
   "language": "python",
   "name": "python3"
  },
  "language_info": {
   "codemirror_mode": {
    "name": "ipython",
    "version": 3
   },
   "file_extension": ".py",
   "mimetype": "text/x-python",
   "name": "python",
   "nbconvert_exporter": "python",
   "pygments_lexer": "ipython3",
   "version": "3.8.11"
  }
 },
 "nbformat": 4,
 "nbformat_minor": 5
}
