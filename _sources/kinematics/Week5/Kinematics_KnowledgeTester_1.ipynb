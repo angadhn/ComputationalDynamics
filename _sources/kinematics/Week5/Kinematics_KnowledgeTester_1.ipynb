{
 "cells": [
  {
   "cell_type": "markdown",
   "metadata": {
    "toc": true
   },
   "source": [
    "<h1>Table of Contents<span class=\"tocSkip\"></span></h1>\n",
    "<div class=\"toc\"><ul class=\"toc-item\"><li><span><a href=\"#Knowledge-Tester-1\" data-toc-modified-id=\"Knowledge-Tester-1-1\"><span class=\"toc-item-num\">1&nbsp;&nbsp;</span>Knowledge Tester 1</a></span></li></ul></div>"
   ]
  },
  {
   "cell_type": "markdown",
   "metadata": {},
   "source": [
    "# Knowledge Tester 1\n",
    "\n",
    "In L4PA6, you learned how to compute the direction cosine matrices between different reference frames to generate the angular velocity and acceleration of one frame with respect to another. In this activity, you are to perform the orientation kinematics for the wall-door-cat flap system shown below.\n",
    "\n",
    "<img src=\"Figures/CatFlap_Door_Wall.png\" height=450 width=450>\n",
    "\n",
    "Specifically, you are to compute the following in the A-frame and also the B-frame:\n",
    "1. $^A\\omega^C$ and store it in a variable named `A_w_C_a_frame` and `A_w_C_b_frame`; and\n",
    "2. $^A\\alpha^C$ and store it in a variable named `A_alpha_C_a_frame` and `A_alpha_C_b_frame`.\n",
    "\n",
    "You are to do this entire exercise by creating a variable that stores the direction cosine matrix using sympy's  `Matrix` feature."
   ]
  },
  {
   "cell_type": "code",
   "execution_count": 1,
   "metadata": {},
   "outputs": [],
   "source": [
    "from sympy import symbols, sin, cos, Matrix\n",
    "from sympy.physics.mechanics import dynamicsymbols, ReferenceFrame, init_vprinting\n",
    "init_vprinting()"
   ]
  }
 ],
 "metadata": {
  "kernelspec": {
   "display_name": "Python 3",
   "language": "python",
   "name": "python3"
  },
  "language_info": {
   "codemirror_mode": {
    "name": "ipython",
    "version": 3
   },
   "file_extension": ".py",
   "mimetype": "text/x-python",
   "name": "python",
   "nbconvert_exporter": "python",
   "pygments_lexer": "ipython3",
   "version": "3.7.6"
  },
  "toc": {
   "base_numbering": 1,
   "nav_menu": {},
   "number_sections": true,
   "sideBar": true,
   "skip_h1_title": false,
   "title_cell": "Table of Contents",
   "title_sidebar": "Contents",
   "toc_cell": true,
   "toc_position": {},
   "toc_section_display": true,
   "toc_window_display": false
  }
 },
 "nbformat": 4,
 "nbformat_minor": 4
}
