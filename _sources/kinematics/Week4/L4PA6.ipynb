{
 "cells": [
  {
   "cell_type": "markdown",
   "metadata": {
    "toc": true
   },
   "source": [
    "<h1>Table of Contents<span class=\"tocSkip\"></span></h1>\n",
    "<div class=\"toc\"><ul class=\"toc-item\"><li><span><a href=\"#Overview-of-Practice-Activity-L4PA6\" data-toc-modified-id=\"Overview-of-Practice-Activity-L4PA6-1\"><span class=\"toc-item-num\">1&nbsp;&nbsp;</span>Overview of Practice Activity L4PA6</a></span></li><li><span><a href=\"#Pre-work-from-L2PA1\" data-toc-modified-id=\"Pre-work-from-L2PA1-2\"><span class=\"toc-item-num\">2&nbsp;&nbsp;</span>Pre-work from L2PA1</a></span><ul class=\"toc-item\"><li><span><a href=\"#Create-scalars-using-symbols-and-dynamicsymbols\" data-toc-modified-id=\"Create-scalars-using-symbols-and-dynamicsymbols-2.1\"><span class=\"toc-item-num\">2.1&nbsp;&nbsp;</span>Create scalars using <code>symbols</code> and <code>dynamicsymbols</code></a></span></li><li><span><a href=\"#Creating-Reference-Frames\" data-toc-modified-id=\"Creating-Reference-Frames-2.2\"><span class=\"toc-item-num\">2.2&nbsp;&nbsp;</span>Creating Reference Frames</a></span></li></ul></li><li><span><a href=\"#Direction-Cosine-Matrices-for-Orienting-Reference-Frames\" data-toc-modified-id=\"Direction-Cosine-Matrices-for-Orienting-Reference-Frames-3\"><span class=\"toc-item-num\">3&nbsp;&nbsp;</span>Direction Cosine Matrices for Orienting Reference Frames</a></span><ul class=\"toc-item\"><li><span><a href=\"#Step-1:--Creating-$^A\\mathbf{C}^B$-withsympy\" data-toc-modified-id=\"Step-1:--Creating-$^A\\mathbf{C}^B$-withsympy-3.1\"><span class=\"toc-item-num\">3.1&nbsp;&nbsp;</span>Step 1:  Creating $^A\\mathbf{C}^B$ with<code>sympy</code></a></span></li><li><span><a href=\"#Use-B_dcm_A-and-orient-method-of-frame-A-to-rotate-B\" data-toc-modified-id=\"Use-B_dcm_A-and-orient-method-of-frame-A-to-rotate-B-3.2\"><span class=\"toc-item-num\">3.2&nbsp;&nbsp;</span>Use <code>B_dcm_A</code> and <code>orient</code> method of frame <code>A</code> to rotate <code>B</code></a></span></li></ul></li><li><span><a href=\"#How-can-we-express-vectors-in-different-frames-with-sympy-and-B_dcm_A-that-we-created-above?\" data-toc-modified-id=\"How-can-we-express-vectors-in-different-frames-with-sympy-and-B_dcm_A-that-we-created-above?-4\"><span class=\"toc-item-num\">4&nbsp;&nbsp;</span>How can we express vectors in different frames with <code>sympy</code> and <code>B_dcm_A</code> that we created above?</a></span><ul class=\"toc-item\"><li><span><a href=\"#Create-the-vectors-in-B-frame-(slightly-modified-from-L2PA1)\" data-toc-modified-id=\"Create-the-vectors-in-B-frame-(slightly-modified-from-L2PA1)-4.1\"><span class=\"toc-item-num\">4.1&nbsp;&nbsp;</span>Create the vectors in B-frame (slightly modified from L2PA1)</a></span></li><li><span><a href=\"#Exercsie:-Can-you-write-the-same-for-the-vector-$\\bf-e$?\" data-toc-modified-id=\"Exercsie:-Can-you-write-the-same-for-the-vector-$\\bf-e$?-4.2\"><span class=\"toc-item-num\">4.2&nbsp;&nbsp;</span>Exercsie: Can you write the same for the vector $\\bf e$?</a></span></li></ul></li></ul></div>"
   ]
  },
  {
   "cell_type": "markdown",
   "metadata": {},
   "source": [
    "# Overview of Practice Activity L4PA6\n",
    "<img src=\"Figures/Door_Wall.png\" height=450 width=450>\n",
    "This activity returns to the door-wall example (see figure above); it also utilises code first written in L2PA1 to teach you how to use direction cosine matrices to support your work as a dynamics engineer.\n",
    "\n",
    "This notebook has three objectives:\n",
    "1. creating a Direction Cosine Matrix (DCM) and using it to configure the orientation between two reference frames $A$ and $B$ using `sympy`; and\n",
    "2. obtaining __angular velocity__ and __angular accelerations__ using `sympy`; and\n",
    "3. a method of expressing any vector in different frames with `sympy` which works once the DCM is known.\n",
    "\n",
    "The code in Section 2 is to express vectors $\\bf v$ and $\\bf e$ in the $B$-frame; in other words, it is a repeat of L2PA1 . Sections 3, 4, and 5 address the 3 objectives above."
   ]
  },
  {
   "cell_type": "markdown",
   "metadata": {},
   "source": [
    "# Pre-work from L2PA1\n",
    "## Create scalars using `symbols` and `dynamicsymbols`"
   ]
  },
  {
   "cell_type": "code",
   "execution_count": 2,
   "metadata": {},
   "outputs": [],
   "source": [
    "from sympy import symbols\n",
    "from sympy.physics.mechanics import dynamicsymbols, ReferenceFrame\n",
    "v, e = symbols('v e')\n",
    "theta = dynamicsymbols('theta')"
   ]
  },
  {
   "cell_type": "markdown",
   "metadata": {},
   "source": [
    "## Creating Reference Frames\n",
    "A and B are reference frames. Let's create them using SymPy!"
   ]
  },
  {
   "cell_type": "code",
   "execution_count": 3,
   "metadata": {},
   "outputs": [],
   "source": [
    "A = ReferenceFrame('A')\n",
    "B = ReferenceFrame('B')"
   ]
  },
  {
   "cell_type": "markdown",
   "metadata": {},
   "source": [
    "# Direction Cosine Matrices for Orienting Reference Frames\n",
    "We now have created the vectors $\\bf v$ and $\\bf e$ in component form in the $B$-system; they are stored in variables named `v_vec` and `e_vec`. Recall from L2PA2 that we had used variables named `v_vec_B` and `e_vec_B` for this purpose. Then, we introduced variable names `v_vec_A` and `e_vec_A` when $\\bf v$ and $\\bf e$ were expressed in the $A$ frame. This was done for good bookkeeping. However, we know that `v_vec_A` and `v_vec_b` are the same vector $\\bf v$! (All of this is also true for $\\bf e$ and its variables `e_vec_A` and `e_vec_B`.)\n",
    "\n",
    "- __Question__: How did we convert vectors $\\bf v$ and $\\bf e$ given in B-frame unit vectors to to A-frame unit vectors?\n",
    "\n",
    "  __Answer__: Using _Direction Cosine Matrices_, $^B\\mathbf{C}^A$, to rotate $B$ relative to $A$ (see below: Equation 8a from file ' 4 rigid body kinematics: orientations.pdf').\n",
    "      \n",
    "   <img src=\"Figures/DCM_notes.png\">\n",
    "\n",
    "Now, we must ask ourselves (or might already have questioned):\n",
    "\n",
    "- How can we exploit `sympy` to convert the vectors while minimizing hand computation?\n",
    "    \n",
    "    __Answer__: We can do this in two steps:\n",
    "    - __Step 1__: create a $^B\\mathbf{C}^A$ using the `Matrix` feature of `sympy`; and\n",
    "    - __Step 2__: use the DCM created in Step 1 in the `orient` method to correctly perform the rotation of `B` relative to `A`.\n",
    "  \n",
    "The implementation of this is explained below."
   ]
  },
  {
   "cell_type": "markdown",
   "metadata": {},
   "source": [
    "## Step 1:  Creating $^A\\mathbf{C}^B$ with`sympy`\n",
    "To create any matrix using, we must first import the `Matrix` feature from `sympy` as below (we import `sin` and `cos` as well because we know the `Matrix` requires it):"
   ]
  },
  {
   "cell_type": "code",
   "execution_count": 4,
   "metadata": {},
   "outputs": [],
   "source": [
    "from sympy import Matrix, sin, cos"
   ]
  },
  {
   "cell_type": "markdown",
   "metadata": {},
   "source": [
    "We will use the variable name `B_dcm_A` to store the direction cosine matrix $^B\\mathbf{C}^A$."
   ]
  },
  {
   "cell_type": "code",
   "execution_count": 5,
   "metadata": {},
   "outputs": [],
   "source": [
    "B_dcm_A = Matrix([\n",
    "    [cos(theta), 0, sin(theta)],\n",
    "    [0, 1, 0],\n",
    "    [-sin(theta), 0, cos(theta)]\n",
    "])"
   ]
  },
  {
   "cell_type": "markdown",
   "metadata": {},
   "source": [
    "We can examine the contents of the `B_dcm_A`:"
   ]
  },
  {
   "cell_type": "code",
   "execution_count": 6,
   "metadata": {},
   "outputs": [
    {
     "data": {
      "text/latex": [
       "$\\displaystyle \\left[\\begin{matrix}\\cos{\\left(\\theta{\\left(t \\right)} \\right)} & 0 & \\sin{\\left(\\theta{\\left(t \\right)} \\right)}\\\\0 & 1 & 0\\\\- \\sin{\\left(\\theta{\\left(t \\right)} \\right)} & 0 & \\cos{\\left(\\theta{\\left(t \\right)} \\right)}\\end{matrix}\\right]$"
      ],
      "text/plain": [
       "Matrix([\n",
       "[ cos(theta(t)), 0, sin(theta(t))],\n",
       "[             0, 1,             0],\n",
       "[-sin(theta(t)), 0, cos(theta(t))]])"
      ]
     },
     "execution_count": 6,
     "metadata": {},
     "output_type": "execute_result"
    }
   ],
   "source": [
    "B_dcm_A"
   ]
  },
  {
   "cell_type": "markdown",
   "metadata": {},
   "source": [
    "## Use `B_dcm_A` and `orient ` method of frame `A` to rotate `B`"
   ]
  },
  {
   "cell_type": "markdown",
   "metadata": {},
   "source": [
    "We can now orient `A` and `B` using the `orient` method with the DCM with the following line of code:"
   ]
  },
  {
   "cell_type": "code",
   "execution_count": 7,
   "metadata": {},
   "outputs": [],
   "source": [
    "A.orient(B, 'DCM', B_dcm_A)"
   ]
  },
  {
   "cell_type": "markdown",
   "metadata": {},
   "source": [
    "In this case, the `orient` method takes the following sequence of information in the parantheses:\n",
    "1. Frame of rotation, in this case, `B`\n",
    "2. the type of rotation, in this case it is the `DCM` (whereas in L4PA5, we used `Axis`); and\n",
    "3. the specific matrix that we are using as the DCM. In this case, it is `B_dcm_A`.\n",
    "\n",
    "__ You will get an error (or incorrect result) if you do not provide the information in the order listed above or give it incorrect information__.\n",
    "\n",
    "It is easy to determine the expressions for $^A\\omega^B$ and $^A\\alpha^B$ by examining the figure and writing it out by hand. This can also serve as the sanity check for the results produced by `sympy` for these vectors by examining the angular velocity and angular acceleration of B in A, with the following two lines of code:"
   ]
  },
  {
   "cell_type": "code",
   "execution_count": 8,
   "metadata": {},
   "outputs": [
    {
     "data": {
      "text/latex": [
       "$\\displaystyle -  \\frac{d}{d t} \\theta{\\left(t \\right)}\\mathbf{\\hat{b}_y}$"
      ],
      "text/plain": [
       "- Derivative(theta(t), t)*B.y"
      ]
     },
     "execution_count": 8,
     "metadata": {},
     "output_type": "execute_result"
    }
   ],
   "source": [
    "B.ang_vel_in(A)"
   ]
  },
  {
   "cell_type": "code",
   "execution_count": null,
   "metadata": {},
   "outputs": [],
   "source": [
    "B.ang_acc_in(A)"
   ]
  },
  {
   "cell_type": "markdown",
   "metadata": {},
   "source": [
    "# How can we express vectors in different frames with `sympy` and `B_dcm_A` that we created above? "
   ]
  },
  {
   "cell_type": "markdown",
   "metadata": {},
   "source": [
    "## Create the vectors in B-frame (slightly modified from L2PA1)"
   ]
  },
  {
   "cell_type": "markdown",
   "metadata": {},
   "source": [
    "In this section, we use the variable names `v_vec` and `e_vec` for $\\bf v$ and $\\bf e$; we write the vectors in the B reference frame."
   ]
  },
  {
   "cell_type": "code",
   "execution_count": null,
   "metadata": {},
   "outputs": [],
   "source": [
    "v_vec = v*B.x\n",
    "e_vec = -e*B.y"
   ]
  },
  {
   "cell_type": "markdown",
   "metadata": {},
   "source": [
    "We append the `.express` method to a variable representing a `Vector` to automatically convert it into a new frame:"
   ]
  },
  {
   "cell_type": "code",
   "execution_count": null,
   "metadata": {},
   "outputs": [],
   "source": [
    "v_vec.express(A)"
   ]
  },
  {
   "cell_type": "markdown",
   "metadata": {},
   "source": [
    "## Exercsie: Can you write the same for the vector $\\bf e$?"
   ]
  },
  {
   "cell_type": "markdown",
   "metadata": {},
   "source": [
    "Can you define the vector $\\bf e$ expressed in the unit vectors attached to the frame A? You should use a variable name `e_vec_A` to do so in the cell below:"
   ]
  },
  {
   "cell_type": "code",
   "execution_count": null,
   "metadata": {},
   "outputs": [],
   "source": []
  }
 ],
 "metadata": {
  "kernelspec": {
   "display_name": "Python 3",
   "language": "python",
   "name": "python3"
  },
  "language_info": {
   "codemirror_mode": {
    "name": "ipython",
    "version": 3
   },
   "file_extension": ".py",
   "mimetype": "text/x-python",
   "name": "python",
   "nbconvert_exporter": "python",
   "pygments_lexer": "ipython3",
   "version": "3.7.6"
  },
  "toc": {
   "base_numbering": 1,
   "nav_menu": {},
   "number_sections": true,
   "sideBar": true,
   "skip_h1_title": false,
   "title_cell": "Table of Contents",
   "title_sidebar": "Contents",
   "toc_cell": true,
   "toc_position": {},
   "toc_section_display": true,
   "toc_window_display": false
  }
 },
 "nbformat": 4,
 "nbformat_minor": 4
}
