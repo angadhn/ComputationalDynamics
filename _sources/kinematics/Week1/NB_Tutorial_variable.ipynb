{
 "cells": [
  {
   "cell_type": "markdown",
   "metadata": {
    "toc": true
   },
   "source": [
    "<h1>Table of Contents<span class=\"tocSkip\"></span></h1>\n",
    "<div class=\"toc\"><ul class=\"toc-item\"><li><span><a href=\"#How-to-interact-with-this-tutorial\" data-toc-modified-id=\"How-to-interact-with-this-tutorial-1\"><span class=\"toc-item-num\">1&nbsp;&nbsp;</span>How to interact with this tutorial</a></span></li><li><span><a href=\"#Variable\" data-toc-modified-id=\"Variable-2\"><span class=\"toc-item-num\">2&nbsp;&nbsp;</span>Variable</a></span><ul class=\"toc-item\"><li><span><a href=\"#Concept-and-Implementation\" data-toc-modified-id=\"Concept-and-Implementation-2.1\"><span class=\"toc-item-num\">2.1&nbsp;&nbsp;</span>Concept and Implementation</a></span></li><li><span><a href=\"#Definition\" data-toc-modified-id=\"Definition-2.2\"><span class=\"toc-item-num\">2.2&nbsp;&nbsp;</span>Definition</a></span></li></ul></li></ul></div>"
   ]
  },
  {
   "cell_type": "markdown",
   "metadata": {},
   "source": [
    "# How to interact with this tutorial\n",
    "\n",
    "Execute a code cell (the bounded rectangular block that has In[] written to it's left) by clicking on it\n",
    "and simultaneously pressing 'Shift+Enter'. \n",
    "\n",
    "# Variable\n",
    "## Concept and Implementation\n",
    "In the following cell, enter a 6-digit number."
   ]
  },
  {
   "cell_type": "code",
   "execution_count": null,
   "metadata": {
    "attributes": {
     "classes": [
      "py"
     ],
     "id": ""
    }
   },
   "outputs": [],
   "source": [
    "#Enter some number below"
   ]
  },
  {
   "cell_type": "markdown",
   "metadata": {},
   "source": [
    "In the following cell, enter another 6-digit number."
   ]
  },
  {
   "cell_type": "code",
   "execution_count": null,
   "metadata": {
    "attributes": {
     "classes": [
      "py"
     ],
     "id": ""
    }
   },
   "outputs": [],
   "source": [
    "#Enter some number below"
   ]
  },
  {
   "cell_type": "markdown",
   "metadata": {},
   "source": [
    "In the cell below, add these numbers."
   ]
  },
  {
   "cell_type": "code",
   "execution_count": null,
   "metadata": {
    "attributes": {
     "classes": [
      "py"
     ],
     "id": ""
    }
   },
   "outputs": [],
   "source": [
    "#Enter some number below"
   ]
  },
  {
   "cell_type": "markdown",
   "metadata": {},
   "source": [
    "Now multiply the same two numbers."
   ]
  },
  {
   "cell_type": "code",
   "execution_count": null,
   "metadata": {
    "attributes": {
     "classes": [
      "py"
     ],
     "id": ""
    }
   },
   "outputs": [],
   "source": [
    "#Enter some number below"
   ]
  },
  {
   "cell_type": "markdown",
   "metadata": {},
   "source": [
    "Now, divide the same two numbers."
   ]
  },
  {
   "cell_type": "code",
   "execution_count": null,
   "metadata": {
    "attributes": {
     "classes": [
      "py"
     ],
     "id": ""
    }
   },
   "outputs": [],
   "source": [
    "#Enter some number below"
   ]
  },
  {
   "cell_type": "markdown",
   "metadata": {},
   "source": [
    "Gets quite boring and also tedious to keep rewriting these numbers over and over\n",
    "again, right? So you think to yourself: ''surely, computer peoples must have\n",
    "found a better way to handle this stuff?'' And, yes, they have! This is done by\n",
    "storing the numbers using some what is called a variable."
   ]
  },
  {
   "cell_type": "code",
   "execution_count": null,
   "metadata": {
    "attributes": {
     "classes": [
      "py"
     ],
     "id": ""
    }
   },
   "outputs": [],
   "source": [
    "#Enter some number below\n",
    "a = 123456\n",
    "b = 123455"
   ]
  },
  {
   "cell_type": "markdown",
   "metadata": {},
   "source": [
    "Now, you can repeat the above algebra operations more conveniently. Now, we can\n",
    "present a more formal definition of a variable.\n",
    "\n",
    "<a id=’definition’></a>\n",
    "## Definition\n",
    "A variable is a reserved memory location to store values. In other words, a\n",
    "variable in a python program gives data to the computer for processing.\n",
    "\n",
    "This is sufficient for us to work with [the Vectors Tutorial](NB_Tutorial_Vectors_ReferenceFrames.ipynb)."
   ]
  }
 ],
 "metadata": {
  "kernelspec": {
   "display_name": "Python 3",
   "language": "python",
   "name": "python3"
  },
  "language_info": {
   "codemirror_mode": {
    "name": "ipython",
    "version": 3
   },
   "file_extension": ".py",
   "mimetype": "text/x-python",
   "name": "python",
   "nbconvert_exporter": "python",
   "pygments_lexer": "ipython3",
   "version": "3.7.6"
  },
  "toc": {
   "base_numbering": 1,
   "nav_menu": {},
   "number_sections": true,
   "sideBar": true,
   "skip_h1_title": false,
   "title_cell": "Table of Contents",
   "title_sidebar": "Contents",
   "toc_cell": true,
   "toc_position": {},
   "toc_section_display": true,
   "toc_window_display": false
  }
 },
 "nbformat": 4,
 "nbformat_minor": 4
}
