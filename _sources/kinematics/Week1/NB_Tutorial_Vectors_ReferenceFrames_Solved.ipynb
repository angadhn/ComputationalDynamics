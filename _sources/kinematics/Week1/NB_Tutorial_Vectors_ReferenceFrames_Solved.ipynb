{
 "cells": [
  {
   "cell_type": "markdown",
   "metadata": {},
   "source": [
    "# Vector Algebra with a Computer Algebra System\n",
    "This [interactive Jupyter notebook](https://en.wikipedia.org/wiki/Project_Jupyter#Jupyter_Notebook) is to help get you started using [SymPy](https://www.sympy.org/en/index.html) for performing vector computations. This contrasts with your standard hand-held calculator, which performs computations on scalar quantities.\n",
    "\n",
    "This particular page is a Jupyter notebook-based tutorial that also contains a set of interactive exercises to gradually help get you started with the basics of computational vector algebra (which you now know how to do if you watched the videos [here](../vector.ipynb)) using SymPy.\n",
    "\n",
    "This textbook has more such interactive notebooks as well as other resources. Work through them at your own pace each week. I hope this makes learning to program a more enjoyable process."
   ]
  },
  {
   "cell_type": "markdown",
   "metadata": {},
   "source": [
    "## How to interact with this tutorial\n",
    "```{warning}\n",
    "This portion of the discussion assumes you have access to the Jupyter platform. Two ways to access:\n",
    "1. __Recommended option__: online access as provided by universities e.g., [QMUL](https://jhub.sems.qmul.ac.uk) offers one to its students; or\n",
    "2. __Advanced and adventurous option__: by installing [Anaconda](https://anaconda.org) on your personal computer and accessing the Jupyter notebook interface. Instructions on using Jupyter notebooks with Anaconda can be found [here](https://docs.anaconda.com/ae-notebooks/user-guide/basic-tasks/apps/jupyter/index.html).\n",
    "```\n",
    "\n",
    "````{margin}\n",
    "Here `name` is a variable which contains a string.\n",
    "```{note}\n",
    "__Pre-knowledge__: Need a refresher on these computing concepts of variables and strings? These are concepts in computing that you should become familiar with if you are not already (especially before embarking on this tutorial). They are covered in two short notebooks on:\n",
    "1. [Variables](NB_Tutorial_variable.ipynb)\n",
    "2. [Strings](NB_Tutorial_string.ipynb)\n",
    "```\n",
    "````\n",
    "\n",
    "Execute a code cell (such as the one right below) by clicking on it and simultaneously pressing 'Shift+Enter'. You will then see a new line appear, which says `My name is  Bond. James Bond`. You may change the text stored in `name` to your name."
   ]
  },
  {
   "cell_type": "code",
   "execution_count": null,
   "metadata": {
    "attributes": {
     "classes": [
      "py"
     ],
     "id": ""
    }
   },
   "outputs": [],
   "source": [
    "name = 'Bond. James Bond.'\n",
    "print('My name is ', name)"
   ]
  },
  {
   "cell_type": "markdown",
   "metadata": {},
   "source": [
    "# Reference Frames and Vectors\n",
    "In the preceding discussions, we reviewed vectors and reference frames. Therein, the component form of representing\n",
    "a vector was presented- this allows us to write a vector using its scalar components and some unit vectors.\n",
    "\n",
    "For example: ${\\bf v}= v_1 \\hat{\\bf{a}}_x + v_2 \\hat{\\bf{a}}_y + v_3\n",
    "\\hat{\\bf{a}}_z$\n",
    "is the representation of a vector ${\\bf v}$ using the scalars $v_i$ $(i=1,2,3)$\n",
    "and a set of unit vectors $\\hat{\\bf{a}}_j$ $(j=x,y,z)$. The set of unit vectors\n",
    "are called a reference frame, which we shall call $A$, for the sake of this\n",
    "notebook- here, we also assume that these vectors have the special property of being orthogonal.\n",
    "\n",
    "Engineering dynamicists utilize their understanding of vectors to generate\n",
    "models that describe the motion of engineering systems. Some exciting and\n",
    "important\n",
    "examples of systems analysed using dynamics models are rockets, spacecraft,\n",
    "aircraft, drones, etc. As these systems are quite complex, dynamicists have\n",
    "developed tools that facilitate their modeling. Another important aspect of a\n",
    "dynamicist's work is in the analyses of motion behaviours using these models.\n",
    "This also helps in exploring aspects of the design space to improve the\n",
    "performance of machines (e.g., robots) or aid in understanding anomalies and\n",
    "failures in engineering systems.\n",
    "\n",
    "The objective of this notebook is to introduce you to some fundamental tools\n",
    "that\n",
    "facilitate such complex mathematical modeling of systems using computers. To do\n",
    "so,\n",
    "we will use a computer's ability to perform algebra (woking with symbols)- this\n",
    "is enabled by a symbolic library known as SymPy, which is written in Python.\n",
    "Here, we will learn not only to express a vector in its symbolic form but also\n",
    "to\n",
    "perform routine vector algebra operations (addition and multiplication) in\n",
    "SymPy.\n",
    "This will allow us to eventually develop a model that describes the motion of\n",
    "a spacecraft orbiting the Earth.\n",
    "\n",
    "## Initial setup: get the necessary tools!\n",
    "As with most programming languages, the first few lines are dedicated to importing tools that allow us to achieve this notebook's objective.\n",
    "For this, we will use SymPy's `symbols` and `ReferenceFrame`."
   ]
  },
  {
   "cell_type": "code",
   "execution_count": null,
   "metadata": {
    "attributes": {
     "classes": [],
     "id": "",
     "n": "6"
    }
   },
   "outputs": [],
   "source": [
    "from sympy import symbols\n",
    "from sympy.physics.mechanics import ReferenceFrame"
   ]
  },
  {
   "cell_type": "markdown",
   "metadata": {},
   "source": [
    "## Create the vector 'v'\n",
    "\n",
    "We will first create the scalar components of the vector $\\bf v$, i.e.,\n",
    "$v_i$ $(i=1,2,3)$. It is good practice to declare symbols as real to\n",
    "encourage SymPy to provide simpler results- this is why we have included\n",
    "`real=True`."
   ]
  },
  {
   "cell_type": "code",
   "execution_count": null,
   "metadata": {
    "attributes": {
     "classes": [
      "py"
     ],
     "id": ""
    }
   },
   "outputs": [],
   "source": [
    "v1, v2, v3 = symbols('v1, v2, v3', real=True)"
   ]
  },
  {
   "cell_type": "markdown",
   "metadata": {},
   "source": [
    "Then, we create a reference frame- this provides the orthogonal unit vectors for\n",
    "constructing general vectors such as $\\bf v$."
   ]
  },
  {
   "cell_type": "code",
   "execution_count": null,
   "metadata": {
    "attributes": {
     "classes": [
      "py"
     ],
     "id": ""
    }
   },
   "outputs": [],
   "source": [
    "A = ReferenceFrame('A')"
   ]
  },
  {
   "cell_type": "markdown",
   "metadata": {},
   "source": [
    "The three orthonormal vectors (orthogonal unit vectors) associated with this\n",
    "frame $A$ can be accessed by appending either `.x`, `.y`, or `.z` to it. Let us\n",
    "examine each of these."
   ]
  },
  {
   "cell_type": "code",
   "execution_count": null,
   "metadata": {
    "attributes": {
     "classes": [
      "py"
     ],
     "id": ""
    }
   },
   "outputs": [],
   "source": [
    "A.x"
   ]
  },
  {
   "cell_type": "code",
   "execution_count": null,
   "metadata": {
    "attributes": {
     "classes": [
      "py"
     ],
     "id": ""
    }
   },
   "outputs": [],
   "source": [
    "A.y"
   ]
  },
  {
   "cell_type": "code",
   "execution_count": null,
   "metadata": {
    "attributes": {
     "classes": [
      "py"
     ],
     "id": ""
    }
   },
   "outputs": [],
   "source": [
    "A.z"
   ]
  },
  {
   "cell_type": "markdown",
   "metadata": {},
   "source": [
    "Now, we can construct the vector $\\bf v$ by multiplying its scalars by the\n",
    "frame's\n",
    "associated unit vectors. This vector will be stored, as shown below, in the\n",
    "variable\n",
    "`v`."
   ]
  },
  {
   "cell_type": "code",
   "execution_count": null,
   "metadata": {
    "attributes": {
     "classes": [
      "py"
     ],
     "id": ""
    }
   },
   "outputs": [],
   "source": [
    "v = v1*A.x + v2*A.y + v3*A.z"
   ]
  },
  {
   "cell_type": "markdown",
   "metadata": {},
   "source": [
    "The vectors stored in variable `v` can be displayed:"
   ]
  },
  {
   "cell_type": "code",
   "execution_count": null,
   "metadata": {
    "attributes": {
     "classes": [
      "py"
     ],
     "id": ""
    }
   },
   "outputs": [],
   "source": [
    "v"
   ]
  },
  {
   "cell_type": "markdown",
   "metadata": {},
   "source": [
    "Now, a little bit of Python and computer programming terminology.\n",
    "`v` and `A` appear to the left hand side of `=` in the code snippets above,\n",
    "which\n",
    "attaches these two letters to a Vector or a ReferenceFrame. In other words,\n",
    "`v` and `A` are containers that store something. In computing, such containers\n",
    "are\n",
    "typically referred to as variables.\n",
    "\n",
    "If we are unsure of or wish to learn what kind (or type) of object a variable\n",
    "holds,\n",
    "Python allows us to request this (and other) details by using a question mark,\n",
    "as\n",
    "below:"
   ]
  },
  {
   "cell_type": "code",
   "execution_count": null,
   "metadata": {
    "attributes": {
     "classes": [
      "py"
     ],
     "id": ""
    }
   },
   "outputs": [],
   "source": [
    "v?"
   ]
  },
  {
   "cell_type": "markdown",
   "metadata": {},
   "source": [
    "The first line of the newly opened window tells us that `v` is a `Vector`. This is cool because we have just used `symbols` and `ReferenceFrame` to write a vector in its component form using abstract symbols and not numbers!\n",
    "\n",
    "You may now close thenewly opened window in the bottom half of your browser.\n",
    "\n",
    "## Some operations on vector 'v'\n",
    "As we are aware, vectors have some important properties. One of these is its\n",
    "magnitude and SymPy allows us to access this information easily.\n",
    "The scalar magnitude of `v` can be found by:"
   ]
  },
  {
   "cell_type": "code",
   "execution_count": null,
   "metadata": {
    "attributes": {
     "classes": [
      "py"
     ],
     "id": ""
    }
   },
   "outputs": [],
   "source": [
    "v.magnitude()"
   ]
  },
  {
   "cell_type": "markdown",
   "metadata": {},
   "source": [
    "A unit vector in the same direction as $\\mathbf{v}$ can also be found with:"
   ]
  },
  {
   "cell_type": "code",
   "execution_count": null,
   "metadata": {
    "attributes": {
     "classes": [
      "py"
     ],
     "id": ""
    }
   },
   "outputs": [],
   "source": [
    "v.normalize()"
   ]
  },
  {
   "cell_type": "markdown",
   "metadata": {},
   "source": [
    "which is equivalent to:"
   ]
  },
  {
   "cell_type": "code",
   "execution_count": null,
   "metadata": {
    "attributes": {
     "classes": [
      "py"
     ],
     "id": ""
    }
   },
   "outputs": [],
   "source": [
    "v / v.magnitude()"
   ]
  },
  {
   "cell_type": "markdown",
   "metadata": {},
   "source": [
    "## Vector algebra\n",
    "\n",
    "### Addition\n",
    "To add a new vector, ${\\bf w}= w_1 \\hat{\\bf{a}}_x + w_2 \\hat{\\bf{a}}_y + w_3 \\hat{\\bf{a}}_z$, to the vector ${\\bf v}$ that we created above, we have to do the following steps:"
   ]
  },
  {
   "cell_type": "code",
   "execution_count": null,
   "metadata": {
    "attributes": {
     "classes": [
      "py"
     ],
     "id": ""
    }
   },
   "outputs": [],
   "source": [
    "w1, w2, w3 = symbols(\"w1, w2, w3\", real=True)\n",
    "w = w1*A.x + w2*A.y + w3 * A.z\n",
    "w"
   ]
  },
  {
   "cell_type": "markdown",
   "metadata": {},
   "source": [
    "Then, the two vectors can be added:"
   ]
  },
  {
   "cell_type": "code",
   "execution_count": null,
   "metadata": {
    "attributes": {
     "classes": [
      "py"
     ],
     "id": ""
    }
   },
   "outputs": [],
   "source": [
    "v + w"
   ]
  },
  {
   "cell_type": "markdown",
   "metadata": {},
   "source": [
    "### Activity\n",
    "1. Can you write one line of code to add $\\bf v$ to itself?"
   ]
  },
  {
   "cell_type": "code",
   "execution_count": null,
   "metadata": {
    "attributes": {
     "classes": [
      "py"
     ],
     "id": ""
    }
   },
   "outputs": [],
   "source": [
    "# Enter your code below\n",
    "v+v"
   ]
  },
  {
   "cell_type": "markdown",
   "metadata": {},
   "source": [
    "2. Can you create a new vector $\\bf u$ expressed in a new reference frame $B$?"
   ]
  },
  {
   "cell_type": "code",
   "execution_count": null,
   "metadata": {
    "attributes": {
     "classes": [
      "py"
     ],
     "id": ""
    }
   },
   "outputs": [],
   "source": [
    "# Enter your code below\n",
    "B = ReferenceFrame('B')\n",
    "u1, u2, u3 = symbols(\"u1, u2, u3\", real=True)\n",
    "u = u1*B.x + u2*B.y + u3 * B.z"
   ]
  },
  {
   "cell_type": "markdown",
   "metadata": {},
   "source": [
    "3. What is the result of adding $\\bf u$ to $\\bf v$? Does this make sense?"
   ]
  },
  {
   "cell_type": "code",
   "execution_count": null,
   "metadata": {},
   "outputs": [],
   "source": [
    "# Enter your code below\n",
    "u + v"
   ]
  },
  {
   "cell_type": "markdown",
   "metadata": {},
   "source": [
    "## Multiplication\n",
    "\n",
    "It is quite straightforward to multiply a vector by a scalar. For example:\n",
    "\n",
    "### Scalar product"
   ]
  },
  {
   "cell_type": "code",
   "execution_count": null,
   "metadata": {
    "attributes": {
     "classes": [
      "py"
     ],
     "id": ""
    }
   },
   "outputs": [],
   "source": [
    "10 * v"
   ]
  },
  {
   "cell_type": "markdown",
   "metadata": {},
   "source": [
    "### Dot product\n",
    "Compute the dot product between two vectors:"
   ]
  },
  {
   "cell_type": "code",
   "execution_count": null,
   "metadata": {
    "attributes": {
     "classes": [
      "py"
     ],
     "id": ""
    }
   },
   "outputs": [],
   "source": [
    "v.dot(v)"
   ]
  },
  {
   "cell_type": "markdown",
   "metadata": {},
   "source": [
    "### Cross product\n",
    "Similarly, one can also take the cross products between two vectors:"
   ]
  },
  {
   "cell_type": "code",
   "execution_count": null,
   "metadata": {
    "attributes": {
     "classes": [
      "py"
     ],
     "id": ""
    }
   },
   "outputs": [],
   "source": [
    "v.cross(v)"
   ]
  },
  {
   "cell_type": "markdown",
   "metadata": {},
   "source": [
    "#### Activity:\n",
    "Can you write code to compute the dot and cross products product between\n",
    "$\\bf v$ and $\\bf w$?"
   ]
  },
  {
   "cell_type": "code",
   "execution_count": null,
   "metadata": {
    "attributes": {
     "classes": [
      "py"
     ],
     "id": ""
    }
   },
   "outputs": [],
   "source": [
    "# Enter your code below\n",
    "v.cross(w)"
   ]
  },
  {
   "cell_type": "markdown",
   "metadata": {},
   "source": [
    "# Additional useful features\n",
    "1. The matrix form of both vectors and dyadics can be found if the frame of\n",
    "interest is provided."
   ]
  },
  {
   "cell_type": "code",
   "execution_count": null,
   "metadata": {
    "attributes": {
     "classes": [
      "py"
     ],
     "id": ""
    }
   },
   "outputs": [],
   "source": [
    "v.to_matrix(A)"
   ]
  },
  {
   "cell_type": "markdown",
   "metadata": {},
   "source": [
    "2. You can find all of the scalar variables present in a vector with\n",
    "`free_symbols()`."
   ]
  },
  {
   "cell_type": "code",
   "execution_count": null,
   "metadata": {
    "attributes": {
     "classes": [
      "py"
     ],
     "id": ""
    }
   },
   "outputs": [],
   "source": [
    "v.free_symbols(A)"
   ]
  },
  {
   "cell_type": "markdown",
   "metadata": {},
   "source": [
    "3. Partial derivatives of vectors can be computed in the specified reference\n",
    "frame."
   ]
  },
  {
   "cell_type": "code",
   "execution_count": null,
   "metadata": {
    "attributes": {
     "classes": [
      "py"
     ],
     "id": ""
    }
   },
   "outputs": [],
   "source": [
    "v.diff(v2, A)"
   ]
  },
  {
   "cell_type": "markdown",
   "metadata": {},
   "source": [
    "4. You can substitute numerical values for scalar expressions."
   ]
  },
  {
   "cell_type": "code",
   "execution_count": null,
   "metadata": {
    "attributes": {
     "classes": [
      "py"
     ],
     "id": ""
    }
   },
   "outputs": [],
   "source": [
    "v.subs({v1: 1.34, v2: 5})"
   ]
  },
  {
   "cell_type": "markdown",
   "metadata": {},
   "source": [
    "Note that this does not alter the vector or the scalars"
   ]
  },
  {
   "cell_type": "code",
   "execution_count": null,
   "metadata": {
    "attributes": {
     "classes": [
      "py"
     ],
     "id": ""
    }
   },
   "outputs": [],
   "source": [
    "v"
   ]
  },
  {
   "cell_type": "code",
   "execution_count": null,
   "metadata": {
    "attributes": {
     "classes": [
      "py"
     ],
     "id": ""
    }
   },
   "outputs": [],
   "source": [
    "v1"
   ]
  },
  {
   "cell_type": "code",
   "execution_count": null,
   "metadata": {
    "attributes": {
     "classes": [
      "py"
     ],
     "id": ""
    }
   },
   "outputs": [],
   "source": [
    "v2"
   ]
  },
  {
   "cell_type": "markdown",
   "metadata": {},
   "source": [
    "Thus, we can make use of the new subsitutions by assigning it to a different\n",
    "variable.\n",
    "Let's call that `z`."
   ]
  },
  {
   "cell_type": "code",
   "execution_count": null,
   "metadata": {
    "attributes": {
     "classes": [
      "py"
     ],
     "id": ""
    }
   },
   "outputs": [],
   "source": [
    "z = v.subs({v1: 1.34, v2: 5})\n",
    "z.subs({5: v2})"
   ]
  },
  {
   "cell_type": "markdown",
   "metadata": {},
   "source": [
    "## Activity\n",
    "Run the following code snippet"
   ]
  },
  {
   "cell_type": "code",
   "execution_count": null,
   "metadata": {
    "attributes": {
     "classes": [
      "py"
     ],
     "id": ""
    }
   },
   "outputs": [],
   "source": [
    "m = v.to_matrix(A)\n",
    "m.subs({v1: 5})"
   ]
  },
  {
   "cell_type": "markdown",
   "metadata": {},
   "source": [
    "Now, probe what type of object `m`. In other words, enter `m?` in the code cell\n",
    "below and identify what its `Type`  says:"
   ]
  },
  {
   "cell_type": "code",
   "execution_count": null,
   "metadata": {
    "attributes": {
     "classes": [
      "py"
     ],
     "id": ""
    }
   },
   "outputs": [],
   "source": [
    "#Enter your code below\n",
    "m?"
   ]
  }
 ],
 "metadata": {
  "kernelspec": {
   "display_name": "Python 3 (ipykernel)",
   "language": "python",
   "name": "python3"
  },
  "language_info": {
   "codemirror_mode": {
    "name": "ipython",
    "version": 3
   },
   "file_extension": ".py",
   "mimetype": "text/x-python",
   "name": "python",
   "nbconvert_exporter": "python",
   "pygments_lexer": "ipython3",
   "version": "3.8.11"
  },
  "toc": {
   "base_numbering": 1,
   "nav_menu": {},
   "number_sections": true,
   "sideBar": true,
   "skip_h1_title": false,
   "title_cell": "Table of Contents",
   "title_sidebar": "Contents",
   "toc_cell": true,
   "toc_position": {},
   "toc_section_display": true,
   "toc_window_display": false
  }
 },
 "nbformat": 4,
 "nbformat_minor": 4
}
