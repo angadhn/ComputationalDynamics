{
 "cells": [
  {
   "cell_type": "markdown",
   "id": "8b55ee1f",
   "metadata": {},
   "source": [
    "# Introduction"
   ]
  },
  {
   "cell_type": "markdown",
   "id": "a88f30de",
   "metadata": {},
   "source": [
    "In the most general sense, $\\mathrm{dynamics}$ is the study of properties or parameters that evolve or change with respect to some other parameter. For example, the field of population dynamics studies the change of animal or human populations.\n",
    "\n",
    "In the context of this text and class, we will study the parameters the describe the motion of bodies. More often than not, the changes in these parameters with respect to time will be of interest.\n",
    "\n",
    "At a physical level, our focus will be on the motion of bodies, which we assume can be categorized under two classes: \n",
    "\n",
    "1. **Particles**: These are objects that can be modelled as point masses. They have negligible dimension. \n",
    "\n",
    "2. **Rigid bodies**: These objects that have some shape. Also, these objects do not deform when a force is applied to them. \n",
    "\n",
    "This module could also be called _Rigid Body Dynamics_. Studying the dynamics involving the motion of particles and bodies has two distinct parts:\n",
    "\n",
    "1. **Kinematics**: the study of the geometry or mathematics of motion, without taking into consideration any forces that cause motion. The parameters of interest here are positions, velocities, and accelerations. This is also called rigid body motion or rigid body kinematics.\n",
    "\n",
    "2. **Kinetics**: the study of motion while accounting for any forces causing the motion by using Newton's laws.\n",
    "\n",
    "```{figure} ./images/1.png\n",
    "---\n",
    "name: 1\n",
    "---\n",
    "```"
   ]
  }
 ],
 "metadata": {
  "kernelspec": {
   "display_name": "Python 3 (ipykernel)",
   "language": "python",
   "name": "python3"
  },
  "language_info": {
   "codemirror_mode": {
    "name": "ipython",
    "version": 3
   },
   "file_extension": ".py",
   "mimetype": "text/x-python",
   "name": "python",
   "nbconvert_exporter": "python",
   "pygments_lexer": "ipython3",
   "version": "3.9.7"
  }
 },
 "nbformat": 4,
 "nbformat_minor": 5
}
