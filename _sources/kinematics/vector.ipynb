{
 "cells": [
  {
   "cell_type": "markdown",
   "id": "3418777e",
   "metadata": {},
   "source": [
    "## Fundamental concepts"
   ]
  },
  {
   "cell_type": "markdown",
   "id": "bf471d72",
   "metadata": {},
   "source": [
    "The following definitions are used in kinematics:\n",
    "\n",
    "1. **Particles**: Objects that can be modelled as point masses, having negligible dimension.\n",
    "2. **Point**: A massless particle.\n",
    "3. **Rigid bodies**: Objects that have some shape. They can have a mass or be massless. Also, these objects do not deform when a force is applied to them.\n",
    "4. **Reference frame**: A massless rigid body with respect to which an analyst observes and measures motion of objects.\n",
    "\n",
    "```{figure} ./images/2.png\n",
    "---\n",
    "name: 2\n",
    "---\n",
    "```\n",
    "```{attention}\n",
    "In rigid body kinematics, we aim to mathematically describe the motion of $B$ and $P$ in $R$.\n",
    "```\n",
    "\n",
    "- This requires pre-requisite knowledge on:<br>\n",
    "    (i) **vectors**: unit vector, general vector, component form<br>\n",
    "    (ii) **vector algebra**: addition of vectors and multiplication of vectors<br>\n",
    "    (iii) **vector calculus**: vector differentiation<br>"
   ]
  }
 ],
 "metadata": {
  "kernelspec": {
   "display_name": "Python 3 (ipykernel)",
   "language": "python",
   "name": "python3"
  },
  "language_info": {
   "codemirror_mode": {
    "name": "ipython",
    "version": 3
   },
   "file_extension": ".py",
   "mimetype": "text/x-python",
   "name": "python",
   "nbconvert_exporter": "python",
   "pygments_lexer": "ipython3",
   "version": "3.7.10"
  }
 },
 "nbformat": 4,
 "nbformat_minor": 5
}
