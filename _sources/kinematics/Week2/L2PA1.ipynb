{
 "cells": [
  {
   "cell_type": "markdown",
   "metadata": {
    "toc": true
   },
   "source": [
    "<h1>Table of Contents<span class=\"tocSkip\"></span></h1>\n",
    "<div class=\"toc\"><ul class=\"toc-item\"><li><span><a href=\"#Overview-of-Practice-Activity-L2PA1\" data-toc-modified-id=\"Overview-of-Practice-Activity-L2PA1-1\"><span class=\"toc-item-num\">1&nbsp;&nbsp;</span>Overview of Practice Activity L2PA1</a></span></li><li><span><a href=\"#Create-scalars-using-&quot;symbols&quot;\" data-toc-modified-id=\"Create-scalars-using-&quot;symbols&quot;-2\"><span class=\"toc-item-num\">2&nbsp;&nbsp;</span>Create scalars using \"symbols\"</a></span></li><li><span><a href=\"#Creating-Reference-Frames\" data-toc-modified-id=\"Creating-Reference-Frames-3\"><span class=\"toc-item-num\">3&nbsp;&nbsp;</span>Creating Reference Frames</a></span></li><li><span><a href=\"#Create-the-vectors\" data-toc-modified-id=\"Create-the-vectors-4\"><span class=\"toc-item-num\">4&nbsp;&nbsp;</span>Create the vectors</a></span></li></ul></div>"
   ]
  },
  {
   "cell_type": "markdown",
   "metadata": {},
   "source": [
    "# Overview of Practice Activity L2PA1\n",
    "\n",
    "This is an interactive notebook that is a companion to the in-class lectures; specifically this notebook addresses the Practice Activity L2PA1 presented in the file \"3 Vectors and reference frames.pdf\".\n",
    "\n",
    "<img src=\"Figures/Door_Wall.png\">\n",
    "\n",
    "This activity implements the door-wall example (see figure above) as an interactive textbook that works in JupyterLab. The activity is referred to as Practice Activty L2PA1 in your the handouts used during in-class lectures. Your goal is to implement the two handwritten equations (see Equation 1 below) into the code cells using sympy's feature set.\n",
    "\n",
    "<img src=\"Figures/Equation1.png\">"
   ]
  },
  {
   "cell_type": "markdown",
   "metadata": {},
   "source": [
    "# Create scalars using \"symbols\" "
   ]
  },
  {
   "cell_type": "code",
   "execution_count": null,
   "metadata": {},
   "outputs": [],
   "source": [
    "from sympy import symbols"
   ]
  },
  {
   "cell_type": "markdown",
   "metadata": {},
   "source": [
    "We begin by using sympy's `symbols` to create the scalars $v$, $e$ and $\\theta$, as shown below:"
   ]
  },
  {
   "cell_type": "code",
   "execution_count": null,
   "metadata": {},
   "outputs": [],
   "source": [
    "v, theta, e = symbols('v theta e') # These are scalar symbols."
   ]
  },
  {
   "cell_type": "code",
   "execution_count": null,
   "metadata": {},
   "outputs": [],
   "source": [
    "v"
   ]
  },
  {
   "cell_type": "code",
   "execution_count": null,
   "metadata": {},
   "outputs": [],
   "source": [
    "theta"
   ]
  },
  {
   "cell_type": "code",
   "execution_count": null,
   "metadata": {},
   "outputs": [],
   "source": [
    "e"
   ]
  },
  {
   "cell_type": "markdown",
   "metadata": {},
   "source": [
    "# Creating Reference Frames\n",
    "A and B are reference frames that make up the wall and the door, respectively. Let's create them. First, we need to gain access to the `ReferenceFrame` feature that is provided to us by `sympy.physics.mechanics` in the following way:"
   ]
  },
  {
   "cell_type": "code",
   "execution_count": null,
   "metadata": {},
   "outputs": [],
   "source": [
    "from sympy.physics.mechanics import ReferenceFrame"
   ]
  },
  {
   "cell_type": "markdown",
   "metadata": {},
   "source": [
    "Then, we have to specifically create the wall A's reference frame to gain access to the set of 3 dextral unit vectors ${\\hat {\\bf a}_x}$, ${\\hat {\\bf a}_y}$, and ${\\hat {\\bf a}_z}$ as below:"
   ]
  },
  {
   "cell_type": "code",
   "execution_count": null,
   "metadata": {},
   "outputs": [],
   "source": [
    "A = ReferenceFrame('A') # This creates the unit vectors that make up the wall's frame A"
   ]
  },
  {
   "cell_type": "markdown",
   "metadata": {},
   "source": [
    "The reference frame attahed to the door B can also be created in a similar fashion so that we gain access to the set of 3 dextral unit vectors ${\\hat {\\bf a}_x}$, ${\\hat {\\bf a}_y}$, and ${\\hat {\\bf a}_z}$. This is done as shown below:"
   ]
  },
  {
   "cell_type": "code",
   "execution_count": null,
   "metadata": {},
   "outputs": [],
   "source": [
    "B = ReferenceFrame('B') # This creates the unit vectors that make up the door's frame A"
   ]
  },
  {
   "cell_type": "markdown",
   "metadata": {},
   "source": [
    "We can access the unit vectors by using the variable name that points to any reference frame (i.e. `A` or `B`) and appending `.x` or `.y` or `.z` to it. For example:"
   ]
  },
  {
   "cell_type": "code",
   "execution_count": null,
   "metadata": {},
   "outputs": [],
   "source": [
    "B.x"
   ]
  },
  {
   "cell_type": "markdown",
   "metadata": {},
   "source": [
    "We will now combine all the information concerning the scalars and unit vectors to define the vectors ${\\bf v}$ and ${\\bf e}$ of the door-wall example in the next section."
   ]
  },
  {
   "cell_type": "markdown",
   "metadata": {},
   "source": [
    "# Create the vectors\n",
    "\n",
    "<img src=\"Figures/Equation1.png\">\n",
    "\n",
    "The final task of L2PA1 is to type in the above handwritten component form of ${\\bf v}$ and ${\\bf e}$ the scalars and unit vectors that we created in Sections 2 and 3 using SymPy. We will store the ${\\bf v}$ and ${\\bf e}$ as two variables `v_vec` and `e_vec`, respectively, as shown below:"
   ]
  },
  {
   "cell_type": "code",
   "execution_count": null,
   "metadata": {},
   "outputs": [],
   "source": [
    "v_vec = v*B.x # v_vec stores the vector v that was handwritten in Equation 1 at the start of this notebook."
   ]
  },
  {
   "cell_type": "code",
   "execution_count": null,
   "metadata": {},
   "outputs": [],
   "source": [
    "v_vec"
   ]
  },
  {
   "cell_type": "code",
   "execution_count": null,
   "metadata": {},
   "outputs": [],
   "source": [
    "e_vec = -e*B.y # v_vec stores the vector v that was handwritten in Equation 1 at the start of this notebook."
   ]
  },
  {
   "cell_type": "code",
   "execution_count": null,
   "metadata": {},
   "outputs": [],
   "source": [
    "e_vec"
   ]
  }
 ],
 "metadata": {
  "kernelspec": {
   "display_name": "Python 3",
   "language": "python",
   "name": "python3"
  },
  "language_info": {
   "codemirror_mode": {
    "name": "ipython",
    "version": 3
   },
   "file_extension": ".py",
   "mimetype": "text/x-python",
   "name": "python",
   "nbconvert_exporter": "python",
   "pygments_lexer": "ipython3",
   "version": "3.7.6"
  },
  "toc": {
   "base_numbering": 1,
   "nav_menu": {},
   "number_sections": true,
   "sideBar": true,
   "skip_h1_title": false,
   "title_cell": "Table of Contents",
   "title_sidebar": "Contents",
   "toc_cell": true,
   "toc_position": {},
   "toc_section_display": true,
   "toc_window_display": false
  }
 },
 "nbformat": 4,
 "nbformat_minor": 4
}
