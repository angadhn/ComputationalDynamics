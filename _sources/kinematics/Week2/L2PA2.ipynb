{
 "cells": [
  {
   "cell_type": "markdown",
   "metadata": {
    "toc": true
   },
   "source": [
    "<h1>Table of Contents<span class=\"tocSkip\"></span></h1>\n",
    "<div class=\"toc\"><ul class=\"toc-item\"><li><span><a href=\"#Overview-of-Practice-Activity-L2PA2\" data-toc-modified-id=\"Overview-of-Practice-Activity-L2PA2-1\"><span class=\"toc-item-num\">1&nbsp;&nbsp;</span>Overview of Practice Activity L2PA2</a></span></li><li><span><a href=\"#Create-scalars-using-&quot;symbols&quot;\" data-toc-modified-id=\"Create-scalars-using-&quot;symbols&quot;-2\"><span class=\"toc-item-num\">2&nbsp;&nbsp;</span>Create scalars using \"symbols\"</a></span></li><li><span><a href=\"#Creating-Reference-Frames\" data-toc-modified-id=\"Creating-Reference-Frames-3\"><span class=\"toc-item-num\">3&nbsp;&nbsp;</span>Creating Reference Frames</a></span></li><li><span><a href=\"#Create-the-vectors-in-B-frame-(slightly-modified-from-L2PA1)\" data-toc-modified-id=\"Create-the-vectors-in-B-frame-(slightly-modified-from-L2PA1)-4\"><span class=\"toc-item-num\">4&nbsp;&nbsp;</span>Create the vectors in B-frame (slightly modified from L2PA1)</a></span></li><li><span><a href=\"#L2PA2:-Use-the-trignometric-functions-sine-and-cosine-to-rewrite-the-vectors-in-the-A-frame\" data-toc-modified-id=\"L2PA2:-Use-the-trignometric-functions-sine-and-cosine-to-rewrite-the-vectors-in-the-A-frame-5\"><span class=\"toc-item-num\">5&nbsp;&nbsp;</span>L2PA2: Use the trignometric functions sine and cosine to rewrite the vectors in the A-frame</a></span><ul class=\"toc-item\"><li><span><a href=\"#Exercsie:-Can-you-write-the-same-for-the-vector-e?\" data-toc-modified-id=\"Exercsie:-Can-you-write-the-same-for-the-vector-e?-5.1\"><span class=\"toc-item-num\">5.1&nbsp;&nbsp;</span>Exercsie: Can you write the same for the vector e?</a></span></li></ul></li></ul></div>"
   ]
  },
  {
   "cell_type": "markdown",
   "metadata": {},
   "source": [
    "# Overview of Practice Activity L2PA2\n",
    "<img src=\"Figures/Door_Wall.png\">\n",
    "\n",
    "This notebook continues to build your dynamics knowledge using the door-wall example (see figure above), that was used in L2PA1. This is an interactive notebook that is a companion to the in-class lectures; specifically this notebook addresses the Practice Activity L2PA2, which was first presented in the file \"4 Rigid body kinematics: orientations.pdf\". \n",
    "\n",
    "The code in Sections 2 and 3 of this notebook are repeated from L2PA1. Section 4 is adapted from L2PA1; the modifications in this notebook are to the variable names for the vectors $\\bf v$ and $\\bf e$. The remaining content specifically addresses L2PA2."
   ]
  },
  {
   "cell_type": "markdown",
   "metadata": {},
   "source": [
    "# Create scalars using \"symbols\""
   ]
  },
  {
   "cell_type": "code",
   "execution_count": null,
   "metadata": {},
   "outputs": [],
   "source": [
    "from sympy import symbols"
   ]
  },
  {
   "cell_type": "code",
   "execution_count": null,
   "metadata": {},
   "outputs": [],
   "source": [
    "v, theta, e = symbols('v theta e')"
   ]
  },
  {
   "cell_type": "code",
   "execution_count": null,
   "metadata": {},
   "outputs": [],
   "source": [
    "v"
   ]
  },
  {
   "cell_type": "code",
   "execution_count": null,
   "metadata": {},
   "outputs": [],
   "source": [
    "theta"
   ]
  },
  {
   "cell_type": "code",
   "execution_count": null,
   "metadata": {},
   "outputs": [],
   "source": [
    "e"
   ]
  },
  {
   "cell_type": "markdown",
   "metadata": {},
   "source": [
    "# Creating Reference Frames\n",
    "A and B are reference frames. Let's create them using SymPy!"
   ]
  },
  {
   "cell_type": "code",
   "execution_count": null,
   "metadata": {},
   "outputs": [],
   "source": [
    "from sympy.physics.mechanics import ReferenceFrame"
   ]
  },
  {
   "cell_type": "code",
   "execution_count": null,
   "metadata": {},
   "outputs": [],
   "source": [
    "A = ReferenceFrame('A')"
   ]
  },
  {
   "cell_type": "code",
   "execution_count": null,
   "metadata": {},
   "outputs": [],
   "source": [
    "B = ReferenceFrame('B')"
   ]
  },
  {
   "cell_type": "markdown",
   "metadata": {},
   "source": [
    "# Create the vectors in B-frame (slightly modified from L2PA1)"
   ]
  },
  {
   "cell_type": "markdown",
   "metadata": {},
   "source": [
    "In this section, we use the variable names `v_vec_B` and `e_vec_B` for $\\bf v$ and $\\bf e$ expressed in the unit vectors of the B referenece frame."
   ]
  },
  {
   "cell_type": "code",
   "execution_count": null,
   "metadata": {},
   "outputs": [],
   "source": [
    "v_vec_B = v*B.x"
   ]
  },
  {
   "cell_type": "code",
   "execution_count": null,
   "metadata": {},
   "outputs": [],
   "source": [
    "v_vec_B"
   ]
  },
  {
   "cell_type": "code",
   "execution_count": null,
   "metadata": {},
   "outputs": [],
   "source": [
    "e_vec_B = -e*B.y"
   ]
  },
  {
   "cell_type": "code",
   "execution_count": null,
   "metadata": {},
   "outputs": [],
   "source": [
    "e_vec_B"
   ]
  },
  {
   "cell_type": "markdown",
   "metadata": {},
   "source": [
    "# L2PA2: Use the trignometric functions sine and cosine to rewrite the vectors in the A-frame"
   ]
  },
  {
   "cell_type": "markdown",
   "metadata": {},
   "source": [
    "We first import the trignometric functions for sine and cosine from sympy; these are written in their short forms as `cos` and `sin`. The importing from `sympy` is done in the following line: "
   ]
  },
  {
   "cell_type": "code",
   "execution_count": null,
   "metadata": {},
   "outputs": [],
   "source": [
    "from sympy import sin, cos"
   ]
  },
  {
   "cell_type": "markdown",
   "metadata": {},
   "source": [
    "Then, we define the vector $\\bf v$ as expressed in the unit vectors attached to the frame A using the variable name `v_vec_A` in the following manner:"
   ]
  },
  {
   "cell_type": "code",
   "execution_count": null,
   "metadata": {},
   "outputs": [],
   "source": [
    "v_vec_A = v * (cos(theta)*A.x + sin(theta)*A.y)"
   ]
  },
  {
   "cell_type": "code",
   "execution_count": null,
   "metadata": {},
   "outputs": [],
   "source": [
    "v_vec_A"
   ]
  },
  {
   "cell_type": "markdown",
   "metadata": {},
   "source": [
    "## Exercsie: Can you write the same for the vector e?"
   ]
  },
  {
   "cell_type": "markdown",
   "metadata": {},
   "source": [
    "Can you define the vector $\\bf e$ expressed in the unit vectors attached to the frame A? You should use a variable name `e_vec_A` to do so in the cell below:"
   ]
  },
  {
   "cell_type": "code",
   "execution_count": null,
   "metadata": {},
   "outputs": [],
   "source": []
  }
 ],
 "metadata": {
  "kernelspec": {
   "display_name": "Python 3",
   "language": "python",
   "name": "python3"
  },
  "language_info": {
   "codemirror_mode": {
    "name": "ipython",
    "version": 3
   },
   "file_extension": ".py",
   "mimetype": "text/x-python",
   "name": "python",
   "nbconvert_exporter": "python",
   "pygments_lexer": "ipython3",
   "version": "3.7.6"
  },
  "toc": {
   "base_numbering": 1,
   "nav_menu": {},
   "number_sections": true,
   "sideBar": true,
   "skip_h1_title": false,
   "title_cell": "Table of Contents",
   "title_sidebar": "Contents",
   "toc_cell": true,
   "toc_position": {},
   "toc_section_display": true,
   "toc_window_display": false
  }
 },
 "nbformat": 4,
 "nbformat_minor": 4
}
