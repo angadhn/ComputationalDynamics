{
 "cells": [
  {
   "cell_type": "markdown",
   "metadata": {},
   "source": [
    "# JN2: Practice Activity 1\n",
    "\n",
    "This is an interactive notebook that is a companion to the in-class lectures; specifically this notebook addresses the Practice Activity 1 (PA1).\n",
    "\n",
    "<!-- <img src=\"Figures/Door_Wall.png\"> -->\n",
    "```{figure} ./Figures/Door_Wall.png\n",
    "---\n",
    "name: 10\n",
    "---\n",
    "```\n",
    "This activity implements the door-wall example (see figure above) as an interactive textbook that works in JupyterLab. The activity is referred to as Practice Activty 1 (PA1) in your handouts used during in-class lectures. Your goal is to implement the two handwritten equations (see Equation 1 below) into the code cells using sympy's feature set.\n",
    "\n",
    "<!-- <img src=\"Figures/Equation1.png\"> -->\n",
    "```{figure} ./Figures/Equation1.png\n",
    "---\n",
    "name: eqn1\n",
    "---\n",
    "```\n",
    "\n",
    "The above handwritten equations can be written in typeface as: \n",
    "```{math}\n",
    ":label: eqn1\n",
    "{\\bf v}& = v \\hat{\\bf b}_x\\\\\n",
    "{\\bf e}& = -e \\hat{\\bf b}_y\n",
    "```\n",
    "where $v$ and $e$ are the magnitudes of ${\\bf v}$ and ${\\bf e}$."
   ]
  },
  {
   "cell_type": "markdown",
   "metadata": {},
   "source": [
    "# Create scalars using \"symbols\" "
   ]
  },
  {
   "cell_type": "code",
   "execution_count": null,
   "metadata": {},
   "outputs": [],
   "source": [
    "from sympy import symbols"
   ]
  },
  {
   "cell_type": "markdown",
   "metadata": {},
   "source": [
    "We begin by using sympy's `symbols` to create the scalars $v$, $e$ and $\\theta$, as shown below:"
   ]
  },
  {
   "cell_type": "code",
   "execution_count": null,
   "metadata": {},
   "outputs": [],
   "source": [
    "v, theta, e = symbols('v theta e') # These are scalar symbols."
   ]
  },
  {
   "cell_type": "code",
   "execution_count": null,
   "metadata": {},
   "outputs": [],
   "source": [
    "v"
   ]
  },
  {
   "cell_type": "code",
   "execution_count": null,
   "metadata": {},
   "outputs": [],
   "source": [
    "theta"
   ]
  },
  {
   "cell_type": "code",
   "execution_count": null,
   "metadata": {},
   "outputs": [],
   "source": [
    "e"
   ]
  },
  {
   "cell_type": "markdown",
   "metadata": {},
   "source": [
    "# Creating Reference Frames\n",
    "A and B are reference frames that make up the wall and the door, respectively. Let's create them. First, we need to gain access to the `ReferenceFrame` feature that is provided to us by `sympy.physics.mechanics` in the following way:"
   ]
  },
  {
   "cell_type": "code",
   "execution_count": null,
   "metadata": {},
   "outputs": [],
   "source": [
    "from sympy.physics.mechanics import ReferenceFrame"
   ]
  },
  {
   "cell_type": "markdown",
   "metadata": {},
   "source": [
    "Then, we have to specifically create the wall A's reference frame to gain access to the set of 3 dextral unit vectors ${\\hat {\\bf a}_x}$, ${\\hat {\\bf a}_y}$, and ${\\hat {\\bf a}_z}$ as below:"
   ]
  },
  {
   "cell_type": "code",
   "execution_count": null,
   "metadata": {},
   "outputs": [],
   "source": [
    "A = ReferenceFrame('A') # This creates the unit vectors that make up the wall's frame A"
   ]
  },
  {
   "cell_type": "markdown",
   "metadata": {},
   "source": [
    "The reference frame attahed to the door B can also be created in a similar fashion so that we gain access to the set of 3 dextral unit vectors ${\\hat {\\bf a}_x}$, ${\\hat {\\bf a}_y}$, and ${\\hat {\\bf a}_z}$. This is done as shown below:"
   ]
  },
  {
   "cell_type": "code",
   "execution_count": null,
   "metadata": {},
   "outputs": [],
   "source": [
    "B = ReferenceFrame('B') # This creates the unit vectors that make up the door's frame A"
   ]
  },
  {
   "cell_type": "markdown",
   "metadata": {},
   "source": [
    "We can access the unit vectors by using the variable name that points to any reference frame (i.e. `A` or `B`) and appending `.x` or `.y` or `.z` to it. For example:"
   ]
  },
  {
   "cell_type": "code",
   "execution_count": null,
   "metadata": {},
   "outputs": [],
   "source": [
    "B.x"
   ]
  },
  {
   "cell_type": "markdown",
   "metadata": {},
   "source": [
    "We will now combine all the information concerning the scalars and unit vectors to define the vectors ${\\bf v}$ and ${\\bf e}$ of the door-wall example in the next section."
   ]
  },
  {
   "cell_type": "markdown",
   "metadata": {},
   "source": [
    "# Create the vectors\n",
    "\n",
    "<!-- <img src=\"Figures/Equation1.png\"> -->\n",
    "```{figure} ./Figures/Equation1.png\n",
    "---\n",
    "name: 10\n",
    "---\n",
    "```\n",
    "The final task of PA1 is to type in the above handwritten component form of ${\\bf v}$ and ${\\bf e}$ the scalars and unit vectors that we created in Sections 2 and 3 using SymPy. We will store the ${\\bf v}$ and ${\\bf e}$ as two variables `v_vec` and `e_vec`, respectively, as shown below:"
   ]
  },
  {
   "cell_type": "code",
   "execution_count": null,
   "metadata": {},
   "outputs": [],
   "source": [
    "v_vec = v*B.x # v_vec stores the vector v that was handwritten in Equation 1 at the start of this notebook."
   ]
  },
  {
   "cell_type": "code",
   "execution_count": null,
   "metadata": {},
   "outputs": [],
   "source": [
    "v_vec"
   ]
  },
  {
   "cell_type": "code",
   "execution_count": null,
   "metadata": {},
   "outputs": [],
   "source": [
    "e_vec = -e*B.y # v_vec stores the vector v that was handwritten in Equation 1 at the start of this notebook."
   ]
  },
  {
   "cell_type": "code",
   "execution_count": null,
   "metadata": {},
   "outputs": [],
   "source": [
    "e_vec"
   ]
  },
  {
   "cell_type": "markdown",
   "metadata": {},
   "source": [
    "You can see that these are the same as Equation {eq}`eqn1` above."
   ]
  }
 ],
 "metadata": {
  "kernelspec": {
   "display_name": "Python 3 (ipykernel)",
   "language": "python",
   "name": "python3"
  },
  "language_info": {
   "codemirror_mode": {
    "name": "ipython",
    "version": 3
   },
   "file_extension": ".py",
   "mimetype": "text/x-python",
   "name": "python",
   "nbconvert_exporter": "python",
   "pygments_lexer": "ipython3",
   "version": "3.8.11"
  },
  "toc": {
   "base_numbering": 1,
   "nav_menu": {},
   "number_sections": true,
   "sideBar": true,
   "skip_h1_title": false,
   "title_cell": "Table of Contents",
   "title_sidebar": "Contents",
   "toc_cell": true,
   "toc_position": {},
   "toc_section_display": true,
   "toc_window_display": false
  }
 },
 "nbformat": 4,
 "nbformat_minor": 4
}
