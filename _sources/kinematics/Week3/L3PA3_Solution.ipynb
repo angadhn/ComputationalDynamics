{
 "cells": [
  {
   "cell_type": "markdown",
   "metadata": {
    "toc": true
   },
   "source": [
    "<h1>Table of Contents<span class=\"tocSkip\"></span></h1>\n",
    "<div class=\"toc\"><ul class=\"toc-item\"><li><span><a href=\"#Overview-of-Practice-Acitivty-L3PA3\" data-toc-modified-id=\"Overview-of-Practice-Acitivty-L3PA3-1\"><span class=\"toc-item-num\">1&nbsp;&nbsp;</span>Overview of Practice Acitivty L3PA3</a></span></li><li><span><a href=\"#Create-time-varying-scalars-using-dynamicsymbols\" data-toc-modified-id=\"Create-time-varying-scalars-using-dynamicsymbols-2\"><span class=\"toc-item-num\">2&nbsp;&nbsp;</span>Create time-varying scalars using <code>dynamicsymbols</code></a></span></li><li><span><a href=\"#Create-constant-scalars-using-symbols\" data-toc-modified-id=\"Create-constant-scalars-using-symbols-3\"><span class=\"toc-item-num\">3&nbsp;&nbsp;</span>Create constant scalars using <code>symbols</code></a></span></li><li><span><a href=\"#Creating-Reference-Frames\" data-toc-modified-id=\"Creating-Reference-Frames-4\"><span class=\"toc-item-num\">4&nbsp;&nbsp;</span>Creating Reference Frames</a></span></li><li><span><a href=\"#L3PA3\" data-toc-modified-id=\"L3PA3-5\"><span class=\"toc-item-num\">5&nbsp;&nbsp;</span>L3PA3</a></span><ul class=\"toc-item\"><li><span><a href=\"#Computing-$\\frac{^A-d}{dt}\\bf-r$\" data-toc-modified-id=\"Computing-$\\frac{^A-d}{dt}\\bf-r$-5.1\"><span class=\"toc-item-num\">5.1&nbsp;&nbsp;</span>Computing $\\frac{^A d}{dt}\\bf r$</a></span></li><li><span><a href=\"#Activity:-Computing-$\\frac{^B-d}{dt}\\bf-r$\" data-toc-modified-id=\"Activity:-Computing-$\\frac{^B-d}{dt}\\bf-r$-5.2\"><span class=\"toc-item-num\">5.2&nbsp;&nbsp;</span>Activity: Computing $\\frac{^B d}{dt}\\bf r$</a></span></li><li><span><a href=\"#Activity:-Re-compute-$\\frac{^A-d}{dt}\\bf-r$\" data-toc-modified-id=\"Activity:-Re-compute-$\\frac{^A-d}{dt}\\bf-r$-5.3\"><span class=\"toc-item-num\">5.3&nbsp;&nbsp;</span>Activity: Re-compute $\\frac{^A d}{dt}\\bf r$</a></span></li></ul></li></ul></div>"
   ]
  },
  {
   "cell_type": "markdown",
   "metadata": {},
   "source": [
    "# Overview of Practice Acitivty L3PA3\n",
    "<img src=\"Figures/Door_Wall_modified.png\">\n",
    "\n",
    "This notebook use the door-wall example (see figure above) so that we can complete Practice Activity L3PA3 that is at the very end of the file \"5 Vector Calculus and SymPy\".\n",
    "\n",
    "To achieve this task, we introduce two important concepts:\n",
    "1. defining symbols that change with respect to time, using Sympy. We need this because, in the wall-door example above, we know that the angle $\\theta$ changes as a function of time as the door $B$ swings realtive to wall $A$.\n",
    "2. taking time derivatives of vector functions. This is necessary because L3PA3 requires us to compute time derivatives of vector $\\bf r$. Specifically, we are asked to compute $\\frac{^A d}{dt}\\bf r$ and $\\frac{^B d}{dt}\\bf r$."
   ]
  },
  {
   "cell_type": "markdown",
   "metadata": {},
   "source": [
    "# Create time-varying scalars using `dynamicsymbols`\n",
    "By looking at the figure above humans can quite easily interepret that when the door $B$ swings realtive to wall $A$, the angle $\\theta$ between the two objects changes with time. However, computers are not inherently aware of this so we have to be explicit in communicating this to the computer. In sympy, we enforce this by making use of its `dynamicsymbols` feature to create $\\theta$; this is specifically available within `sympy.physics.mechanics`."
   ]
  },
  {
   "cell_type": "code",
   "execution_count": null,
   "metadata": {},
   "outputs": [],
   "source": [
    "from sympy.physics.mechanics import dynamicsymbols, init_vprinting\n",
    "init_vprinting()\n",
    "theta = dynamicsymbols('theta')"
   ]
  },
  {
   "cell_type": "code",
   "execution_count": null,
   "metadata": {},
   "outputs": [],
   "source": [
    "theta"
   ]
  },
  {
   "cell_type": "markdown",
   "metadata": {},
   "source": [
    "So, what you see from the above output is that $\\theta$ is now very clearly a funciton of time, i.e., $\\theta(t)$. As we will see in the rest of this interactive discussion, time derivatives of those vectors wherein the angle $\\theta$ appears will automatically result in the emergence of $\\dot \\theta$; the computer is intelligent enough to know how to treat time-varying scalars once you (the coder) has provided it the basic informaton. Remember that the dot is just short-hand for time derivative of a scalar function, i.e., $\\dot \\theta \\triangleq \\frac{d}{dt}\\theta(t)$.\n",
    "\n",
    "# Create constant scalars using `symbols`\n",
    "\n",
    "Then, we create the scalars for the length $l$ and height $h$ of the door by using the `symbols` feature; we have already used these in the previous activities. Now, we make it clear that all `symbols` are treated as constants by `sympy`. `sympy` is also intelligent enough to automatically treat them as constants when computing their time derivatives."
   ]
  },
  {
   "cell_type": "code",
   "execution_count": null,
   "metadata": {},
   "outputs": [],
   "source": [
    "from sympy import symbols\n",
    "l, h = symbols('l h')"
   ]
  },
  {
   "cell_type": "code",
   "execution_count": null,
   "metadata": {},
   "outputs": [],
   "source": [
    "l"
   ]
  },
  {
   "cell_type": "code",
   "execution_count": null,
   "metadata": {},
   "outputs": [],
   "source": [
    "h"
   ]
  },
  {
   "cell_type": "markdown",
   "metadata": {},
   "source": [
    "# Creating Reference Frames\n",
    "As taking the derivatives of any vector requires clear information about the reference frame, we create the A and B are reference frames using `ReferenceFrame` as below:"
   ]
  },
  {
   "cell_type": "code",
   "execution_count": null,
   "metadata": {},
   "outputs": [],
   "source": [
    "from sympy.physics.mechanics import ReferenceFrame"
   ]
  },
  {
   "cell_type": "code",
   "execution_count": null,
   "metadata": {},
   "outputs": [],
   "source": [
    "A = ReferenceFrame('A')"
   ]
  },
  {
   "cell_type": "code",
   "execution_count": null,
   "metadata": {},
   "outputs": [],
   "source": [
    "B = ReferenceFrame('B')"
   ]
  },
  {
   "cell_type": "markdown",
   "metadata": {},
   "source": [
    "# L3PA3\n",
    "## Computing $\\frac{^A d}{dt}\\bf r$"
   ]
  },
  {
   "cell_type": "code",
   "execution_count": null,
   "metadata": {},
   "outputs": [],
   "source": [
    "from sympy import sin, cos\n",
    "r_vec = h*A.y - l * ( cos(theta)*A.x + sin(theta)*A.z ) + l*A.x"
   ]
  },
  {
   "cell_type": "code",
   "execution_count": null,
   "metadata": {},
   "outputs": [],
   "source": [
    "r_vec"
   ]
  },
  {
   "cell_type": "code",
   "execution_count": null,
   "metadata": {},
   "outputs": [],
   "source": [
    "r_vec.dt(A)"
   ]
  },
  {
   "cell_type": "markdown",
   "metadata": {},
   "source": [
    "## Activity: Computing $\\frac{^B d}{dt}\\bf r$\n",
    "\n",
    "Please write some code below to compute the $\\frac{^B d}{dt}\\bf r$. You may need to insert some additional cells to do so:"
   ]
  },
  {
   "cell_type": "code",
   "execution_count": null,
   "metadata": {},
   "outputs": [],
   "source": [
    "r_vec = (l - l * cos(theta))*(cos(theta)*B.x - sin(theta)*B.z) + h*B.y - l * sin(theta)*(sin(theta)*B.x + cos(theta)*B.z)\n",
    "r_vec.dt(B)"
   ]
  },
  {
   "cell_type": "markdown",
   "metadata": {},
   "source": [
    "## Activity: Re-compute $\\frac{^A d}{dt}\\bf r$"
   ]
  },
  {
   "cell_type": "markdown",
   "metadata": {},
   "source": [
    "Please re-compute the $\\frac{^A d}{dt}\\bf r$. Does your answer make sense? Why or why not?"
   ]
  },
  {
   "cell_type": "code",
   "execution_count": null,
   "metadata": {},
   "outputs": [],
   "source": [
    "r_vec.dt(A)"
   ]
  }
 ],
 "metadata": {
  "kernelspec": {
   "display_name": "Python 3",
   "language": "python",
   "name": "python3"
  },
  "language_info": {
   "codemirror_mode": {
    "name": "ipython",
    "version": 3
   },
   "file_extension": ".py",
   "mimetype": "text/x-python",
   "name": "python",
   "nbconvert_exporter": "python",
   "pygments_lexer": "ipython3",
   "version": "3.7.6"
  },
  "toc": {
   "base_numbering": 1,
   "nav_menu": {},
   "number_sections": true,
   "sideBar": true,
   "skip_h1_title": false,
   "title_cell": "Table of Contents",
   "title_sidebar": "Contents",
   "toc_cell": true,
   "toc_position": {},
   "toc_section_display": true,
   "toc_window_display": false
  }
 },
 "nbformat": 4,
 "nbformat_minor": 4
}
