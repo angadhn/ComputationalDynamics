{
 "cells": [
  {
   "cell_type": "markdown",
   "metadata": {
    "toc": true
   },
   "source": [
    "<h1>Table of Contents<span class=\"tocSkip\"></span></h1>\n",
    "<div class=\"toc\"><ul class=\"toc-item\"><li><span><a href=\"#Problem-2:-Angular-Momentum-of-System-of-Particles\" data-toc-modified-id=\"Problem-2:-Angular-Momentum-of-System-of-Particles-1\"><span class=\"toc-item-num\">1&nbsp;&nbsp;</span>Problem 2: Angular Momentum of System of Particles</a></span></li><li><span><a href=\"#Solution\" data-toc-modified-id=\"Solution-2\"><span class=\"toc-item-num\">2&nbsp;&nbsp;</span>Solution</a></span></li></ul></div>"
   ]
  },
  {
   "cell_type": "markdown",
   "metadata": {},
   "source": [
    "# Problem 2: Angular Momentum of System of Particles\n",
    "\n",
    "<img src=\"Figures/Problem2.png\" height=500 width=500>\n",
    "\n",
    "The system of four particles has the indicated masses, positions, velocities, and external forces as shown in the figure above. For now, you can ignore the forces; we will revisit this in the next week's activities.\n",
    "\n",
    "Your task is to compute the angular momentum of this system of particles about two points:\n",
    "1. the point O.\n",
    "2. the system's mass centre (so you will have to compute this). You can assume this point is called G.\n",
    "\n",
    "You may makes use of all the tools you have learned so far in SymPy to complete your work."
   ]
  },
  {
   "cell_type": "markdown",
   "metadata": {},
   "source": [
    "# Solution"
   ]
  },
  {
   "cell_type": "code",
   "execution_count": null,
   "metadata": {},
   "outputs": [],
   "source": [
    "from sympy import symbols, sin, cos\n",
    "from sympy.physics.mechanics import ReferenceFrame, Point, dynamicsymbols"
   ]
  },
  {
   "cell_type": "code",
   "execution_count": null,
   "metadata": {},
   "outputs": [],
   "source": []
  }
 ],
 "metadata": {
  "kernelspec": {
   "display_name": "Python 3",
   "language": "python",
   "name": "python3"
  },
  "language_info": {
   "codemirror_mode": {
    "name": "ipython",
    "version": 3
   },
   "file_extension": ".py",
   "mimetype": "text/x-python",
   "name": "python",
   "nbconvert_exporter": "python",
   "pygments_lexer": "ipython3",
   "version": "3.7.6"
  },
  "toc": {
   "base_numbering": 1,
   "nav_menu": {},
   "number_sections": true,
   "sideBar": true,
   "skip_h1_title": false,
   "title_cell": "Table of Contents",
   "title_sidebar": "Contents",
   "toc_cell": true,
   "toc_position": {},
   "toc_section_display": true,
   "toc_window_display": false
  }
 },
 "nbformat": 4,
 "nbformat_minor": 4
}
