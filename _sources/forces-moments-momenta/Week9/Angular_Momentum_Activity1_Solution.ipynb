{
 "cells": [
  {
   "cell_type": "markdown",
   "metadata": {
    "toc": true
   },
   "source": [
    "<h1>Table of Contents<span class=\"tocSkip\"></span></h1>\n",
    "<div class=\"toc\"><ul class=\"toc-item\"><li><span><a href=\"#Problem-1:-Angular-Momentum-of-a-Particle\" data-toc-modified-id=\"Problem-1:-Angular-Momentum-of-a-Particle-1\"><span class=\"toc-item-num\">1&nbsp;&nbsp;</span>Problem 1: Angular Momentum of a Particle</a></span></li><li><span><a href=\"#Solution\" data-toc-modified-id=\"Solution-2\"><span class=\"toc-item-num\">2&nbsp;&nbsp;</span>Solution</a></span><ul class=\"toc-item\"><li><span><a href=\"#The-theory\" data-toc-modified-id=\"The-theory-2.1\"><span class=\"toc-item-num\">2.1&nbsp;&nbsp;</span>The theory</a></span></li><li><span><a href=\"#Computing-the-solution\" data-toc-modified-id=\"Computing-the-solution-2.2\"><span class=\"toc-item-num\">2.2&nbsp;&nbsp;</span>Computing the solution</a></span></li></ul></li></ul></div>"
   ]
  },
  {
   "cell_type": "markdown",
   "metadata": {},
   "source": [
    "# Problem 1: Angular Momentum of a Particle\n",
    "\n",
    "<!-- <img src=\"Figures/Problem1.png\" height=300 width=300> -->\n",
    "```{figure} ./Figures/Problem1.png\n",
    "---\n",
    "height: 300\n",
    "width: 400\n",
    "name: 1\n",
    "---\n",
    "```\n",
    "\n",
    "A small sphere has the position and velocity indicated in the figure and is acted upon by the force $\\bf F$; you may ignore this force for now as we will revisit this example in the following week.\n",
    "\n",
    "Determine the angular momentum of the particle about point O.\n",
    "\n",
    "You may makes use of all the tools you have learned so far in SymPy to complete your work."
   ]
  },
  {
   "cell_type": "markdown",
   "metadata": {},
   "source": [
    "# Solution"
   ]
  },
  {
   "cell_type": "markdown",
   "metadata": {},
   "source": [
    "## The theory\n",
    "We have the definition for angular momentum of a generic particle $P_i$ about $O$:\n",
    "\n",
    "${\\bf H}^{P/O} \\triangleq {\\bf r}^{OP} \\times m_{P} ^N{\\bf v}^{P}$\n",
    "\n",
    ", where:\n",
    "\n",
    "${\\bf r}^{OP}$ is the position vector from a point $O$ to $P$;\n",
    "\n",
    "$m_{P}$ is the mass of $P$; and\n",
    "\n",
    "$^N{\\bf v}^{P}$ is the velocity of $P$ with respect to a reference frame $N$.\n",
    "\n",
    "So, now, we can turn to the features of `sympy` to compute the angular momentum.\n",
    "\n",
    "## Computing the solution"
   ]
  },
  {
   "cell_type": "code",
   "execution_count": 3,
   "metadata": {},
   "outputs": [],
   "source": [
    "from sympy import symbols, sin, cos\n",
    "from sympy.physics.mechanics import ReferenceFrame, Point, dynamicsymbols"
   ]
  },
  {
   "cell_type": "code",
   "execution_count": 22,
   "metadata": {},
   "outputs": [],
   "source": [
    "N = ReferenceFrame('N')\n",
    "P = Point('P')\n",
    "m_P = 2 # mass of P\n",
    "r_OP = 3*N.x + 6*N.y + 4*N.z\n",
    "P.set_vel(N, 5*N.y)\n",
    "N_v_P = P.vel(N)\n",
    "angular_momentum = r_OP.cross(m_P*N_v_P)"
   ]
  },
  {
   "cell_type": "code",
   "execution_count": 23,
   "metadata": {},
   "outputs": [
    {
     "data": {
      "text/latex": [
       "$\\displaystyle - 40\\mathbf{\\hat{n}_x} + 30\\mathbf{\\hat{n}_z}$"
      ],
      "text/plain": [
       "- 40*N.x + 30*N.z"
      ]
     },
     "execution_count": 23,
     "metadata": {},
     "output_type": "execute_result"
    }
   ],
   "source": [
    "angular_momentum"
   ]
  }
 ],
 "metadata": {
  "kernelspec": {
   "display_name": "Python 3 (ipykernel)",
   "language": "python",
   "name": "python3"
  },
  "language_info": {
   "codemirror_mode": {
    "name": "ipython",
    "version": 3
   },
   "file_extension": ".py",
   "mimetype": "text/x-python",
   "name": "python",
   "nbconvert_exporter": "python",
   "pygments_lexer": "ipython3",
   "version": "3.8.11"
  },
  "toc": {
   "base_numbering": 1,
   "nav_menu": {},
   "number_sections": true,
   "sideBar": true,
   "skip_h1_title": false,
   "title_cell": "Table of Contents",
   "title_sidebar": "Contents",
   "toc_cell": true,
   "toc_position": {},
   "toc_section_display": true,
   "toc_window_display": false
  }
 },
 "nbformat": 4,
 "nbformat_minor": 4
}
