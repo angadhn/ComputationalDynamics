{
 "cells": [
  {
   "cell_type": "markdown",
   "metadata": {
    "toc": true
   },
   "source": [
    "<h1>Table of Contents<span class=\"tocSkip\"></span></h1>\n",
    "<div class=\"toc\"><ul class=\"toc-item\"><li><span><a href=\"#Problem-1:-Kinetics-of-a-Particle\" data-toc-modified-id=\"Problem-1:-Kinetics-of-a-Particle-1\"><span class=\"toc-item-num\">1&nbsp;&nbsp;</span>Problem 1: Kinetics of a Particle</a></span><ul class=\"toc-item\"><li><span><a href=\"#Previous-solution\" data-toc-modified-id=\"Previous-solution-1.1\"><span class=\"toc-item-num\">1.1&nbsp;&nbsp;</span>Previous solution</a></span><ul class=\"toc-item\"><li><span><a href=\"#The-theory\" data-toc-modified-id=\"The-theory-1.1.1\"><span class=\"toc-item-num\">1.1.1&nbsp;&nbsp;</span>The theory</a></span></li><li><span><a href=\"#Computing-the-solution\" data-toc-modified-id=\"Computing-the-solution-1.1.2\"><span class=\"toc-item-num\">1.1.2&nbsp;&nbsp;</span>Computing the solution</a></span></li></ul></li></ul></li><li><span><a href=\"#This-solution\" data-toc-modified-id=\"This-solution-2\"><span class=\"toc-item-num\">2&nbsp;&nbsp;</span>This solution</a></span></li></ul></div>"
   ]
  },
  {
   "cell_type": "markdown",
   "metadata": {},
   "source": [
    "# Problem 1: Kinetics of a Particle\n",
    "\n",
    "<!-- <img src=\"Figures/Problem1.png\" height=300 width=300> -->\n",
    "\n",
    "```{figure} ./Figures/Problem1.png\n",
    "---\n",
    "height: 300\n",
    "width: 400\n",
    "name: 1\n",
    "---\n",
    "```\n",
    "\n",
    "A small sphere has the position and velocity indicated in the figure and is acted upon by the force $\\bf F$. In last week's activity, you have already determined the angular momentum of this particle about point O. Now, you are asked to compute the time derivative of the angular momentum of this particle about point O.\n",
    "\n",
    "__Major hint__: It should not be zero; you will need to find the answer to this using the force provided to you.\n",
    "\n",
    "As always, you may makes use of all the tools you have learned so far in SymPy to complete your work. But you can also do this whole problem by hand."
   ]
  },
  {
   "cell_type": "markdown",
   "metadata": {},
   "source": [
    "## Previous solution"
   ]
  },
  {
   "cell_type": "markdown",
   "metadata": {},
   "source": [
    "### The theory\n",
    "We have the definition for angular momentum of a generic particle $P_i$ about $O$:\n",
    "\n",
    "${\\bf H}^{P/O} \\triangleq {\\bf r}^{OP} \\times m_{P} ^N{\\bf v}^{P}$\n",
    "\n",
    ", where:\n",
    "\n",
    "${\\bf r}^{OP}$ is the position vector from a point $O$ to $P$;\n",
    "\n",
    "$m_{P}$ is the mass of $P$; and\n",
    "\n",
    "$^N{\\bf v}^{P}$ is the velocity of $P$ with respect to a reference frame $N$.\n",
    "\n",
    "So, now, we can turn to the features of `sympy` to compute the angular momentum.\n",
    "\n",
    "### Computing the solution"
   ]
  },
  {
   "cell_type": "code",
   "execution_count": 2,
   "metadata": {},
   "outputs": [
    {
     "data": {
      "text/latex": [
       "$\\displaystyle - 40\\mathbf{\\hat{n}_x} + 30\\mathbf{\\hat{n}_z}$"
      ],
      "text/plain": [
       "- 40*N.x + 30*N.z"
      ]
     },
     "execution_count": 2,
     "metadata": {},
     "output_type": "execute_result"
    }
   ],
   "source": [
    "from sympy import symbols, sin, cos\n",
    "from sympy.physics.mechanics import ReferenceFrame, Point, dynamicsymbols\n",
    "N = ReferenceFrame('N')\n",
    "P = Point('P')\n",
    "m_P = 2 # mass of P\n",
    "r_OP = 3*N.x + 6*N.y + 4*N.z\n",
    "P.set_vel(N, 5*N.y)\n",
    "N_v_P = P.vel(N)\n",
    "angular_momentum = r_OP.cross(m_P * N_v_P)\n",
    "angular_momentum"
   ]
  },
  {
   "cell_type": "markdown",
   "metadata": {},
   "source": [
    "# This solution"
   ]
  },
  {
   "cell_type": "markdown",
   "metadata": {},
   "source": [
    "We know that, for a particle,\n",
    "\n",
    "$\\frac{^Nd}{dt}{^N \\bf H}^{P/O} = {\\bf M}_O$,\n",
    "\n",
    "where ${\\bf M}_O$ is the sum of all moments about the point $O$. There is only one force on the partcile, $\\bf F$ which is $10$ $\\text{N}$ in the $\\hat{\\bf n}_z$ direction. So,\n",
    "\n",
    "${\\bf M}_O = {\\bf r}^{OP} \\times \\bf F$.\n",
    "\n",
    "We can then compute this right hand side with `sympy` and equate it to $\\frac{^Nd}{dt} {^N \\bf H}^{P/O}$. I store my result in a variable called `ddt_H_of_P_about_O`, which is the computing name for the mathematical expression $\\frac{^Nd}{dt} {^N \\bf H}^{P/O}$."
   ]
  },
  {
   "cell_type": "code",
   "execution_count": 3,
   "metadata": {},
   "outputs": [
    {
     "data": {
      "text/latex": [
       "$\\displaystyle 60\\mathbf{\\hat{n}_x} - 30\\mathbf{\\hat{n}_y}$"
      ],
      "text/plain": [
       "60*N.x - 30*N.y"
      ]
     },
     "execution_count": 3,
     "metadata": {},
     "output_type": "execute_result"
    }
   ],
   "source": [
    "F_vector = 10*N.z\n",
    "ddt_H_of_P_about_O = r_OP.cross(F_vector)\n",
    "ddt_H_of_P_about_O"
   ]
  }
 ],
 "metadata": {
  "kernelspec": {
   "display_name": "Python 3 (ipykernel)",
   "language": "python",
   "name": "python3"
  },
  "language_info": {
   "codemirror_mode": {
    "name": "ipython",
    "version": 3
   },
   "file_extension": ".py",
   "mimetype": "text/x-python",
   "name": "python",
   "nbconvert_exporter": "python",
   "pygments_lexer": "ipython3",
   "version": "3.8.11"
  },
  "toc": {
   "base_numbering": 1,
   "nav_menu": {},
   "number_sections": true,
   "sideBar": true,
   "skip_h1_title": false,
   "title_cell": "Table of Contents",
   "title_sidebar": "Contents",
   "toc_cell": true,
   "toc_position": {},
   "toc_section_display": true,
   "toc_window_display": false
  }
 },
 "nbformat": 4,
 "nbformat_minor": 4
}
